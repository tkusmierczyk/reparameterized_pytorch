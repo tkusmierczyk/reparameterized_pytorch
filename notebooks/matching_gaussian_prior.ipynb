{
  "cells": [
    {
      "cell_type": "markdown",
      "metadata": {
        "id": "GJcMJWZDBy2h"
      },
      "source": [
        "# Matching q=Normal(loc, softplus(uscale)) to p=Normal(0,1) by minimizing KL(q|p)"
      ]
    },
    {
      "cell_type": "code",
      "execution_count": 116,
      "metadata": {
        "colab": {
          "base_uri": "https://localhost:8080/"
        },
        "id": "uJd1yRdoJgA7",
        "outputId": "ac8f8121-db81-47a0-f47e-eb001f0b38c8"
      },
      "outputs": [
        {
          "name": "stdout",
          "output_type": "stream",
          "text": [
            "Requirement already satisfied: torch in /Users/tomasz.kusmierczyk/anaconda3/lib/python3.8/site-packages (1.9.0)\n",
            "Requirement already satisfied: typing-extensions in /Users/tomasz.kusmierczyk/anaconda3/lib/python3.8/site-packages (from torch) (4.4.0)\n",
            "Note: you may need to restart the kernel to use updated packages.\n"
          ]
        }
      ],
      "source": [
        "%load_ext autoreload\n",
        "%autoreload 2\n",
        "%pip install -q torch"
      ]
    },
    {
      "cell_type": "code",
      "execution_count": 117,
      "metadata": {
        "id": "PkWZ_bKBJYeT"
      },
      "outputs": [],
      "source": [
        "import torch\n",
        "import numpy as np"
      ]
    },
    {
      "cell_type": "code",
      "execution_count": 118,
      "metadata": {
        "colab": {
          "base_uri": "https://localhost:8080/"
        },
        "id": "uiEnOgwGJaEn",
        "outputId": "c8936bc9-58b4-4ecf-fcea-88d08592c3c4"
      },
      "outputs": [
        {
          "name": "stdout",
          "output_type": "stream",
          "text": [
            "Using CPU\n"
          ]
        }
      ],
      "source": [
        "if torch.cuda.is_available():\n",
        "    torch.set_default_tensor_type('torch.cuda.FloatTensor')\n",
        "    ENV = torch.cuda\n",
        "    print(\"Using GPU\")\n",
        "else:\n",
        "    torch.set_default_tensor_type('torch.FloatTensor')\n",
        "    ENV = torch\n",
        "    print(\"Using CPU\")"
      ]
    },
    {
      "cell_type": "code",
      "execution_count": 119,
      "metadata": {
        "id": "JVdgdm7Cd5UI"
      },
      "outputs": [],
      "source": [
        "from matplotlib import pyplot as plt\n",
        "plt.rcParams['figure.figsize'] = (5, 5) # Width and height\n",
        "\n",
        "import seaborn as sns; \n",
        "sns.set(); \n",
        "sns.set(font_scale=2); \n",
        "sns.set_style(\"white\"); "
      ]
    },
    {
      "cell_type": "code",
      "execution_count": 120,
      "metadata": {},
      "outputs": [],
      "source": [
        "import sys\n",
        "sys.path.append(\"../\")"
      ]
    },
    {
      "cell_type": "code",
      "execution_count": 121,
      "metadata": {},
      "outputs": [],
      "source": [
        "import reparameterized as r\n",
        "from reparameterized import sampling\n",
        "from reparameterized import densities"
      ]
    },
    {
      "cell_type": "markdown",
      "metadata": {},
      "source": [
        "## Create q"
      ]
    },
    {
      "cell_type": "code",
      "execution_count": 122,
      "metadata": {
        "id": "18IvegmjJYea"
      },
      "outputs": [],
      "source": [
        "parameter_shape = (3,)\n",
        "parameter_init_value = torch.randn(torch.Size(parameter_shape))\n",
        "\n",
        "sampler, variational_params, aux_objs = sampling.create_factorized_gaussian_sampler(parameter_init_value,\n",
        "    loc_initalization=lambda parameter_init_value: parameter_init_value.clone().detach()+20,\n",
        "    uscale_initialization=lambda parameter_init_value: torch.randn_like(parameter_init_value)*20,\n",
        ")"
      ]
    },
    {
      "cell_type": "code",
      "execution_count": 123,
      "metadata": {},
      "outputs": [
        {
          "data": {
            "text/plain": [
              "{'loc': tensor([18.6674, 18.8212, 21.1151], requires_grad=True),\n",
              " 'unnormalized_scale': tensor([  0.7450,   1.3804, -22.8532], requires_grad=True)}"
            ]
          },
          "execution_count": 123,
          "metadata": {},
          "output_type": "execute_result"
        }
      ],
      "source": [
        "variational_params"
      ]
    },
    {
      "cell_type": "code",
      "execution_count": 124,
      "metadata": {},
      "outputs": [
        {
          "data": {
            "text/plain": [
              "(torch.Size([10240, 3]), torch.Size([10240]))"
            ]
          },
          "execution_count": 124,
          "metadata": {},
          "output_type": "execute_result"
        }
      ],
      "source": [
        "samples, nlls = sampler(n_samples=10240)\n",
        "samples.shape, nlls.shape"
      ]
    },
    {
      "cell_type": "code",
      "execution_count": 125,
      "metadata": {},
      "outputs": [
        {
          "data": {
            "image/png": "[encoded data removed]",
            "text/plain": [
              "<Figure size 360x360 with 1 Axes>"
            ]
          },
          "metadata": {},
          "output_type": "display_data"
        }
      ],
      "source": [
        "plt.hist(samples[:,0].cpu().detach().numpy(), bins=30);\n",
        "plt.title(\"Dim=0 distribution\");"
      ]
    },
    {
      "cell_type": "markdown",
      "metadata": {},
      "source": [
        "## Create p"
      ]
    },
    {
      "cell_type": "code",
      "execution_count": 126,
      "metadata": {},
      "outputs": [],
      "source": [
        "calc_p_nll = densities.create_gaussian_nll(parameter_shape)"
      ]
    },
    {
      "cell_type": "code",
      "execution_count": 127,
      "metadata": {},
      "outputs": [
        {
          "data": {
            "text/plain": [
              "torch.Size([10240])"
            ]
          },
          "execution_count": 127,
          "metadata": {},
          "output_type": "execute_result"
        }
      ],
      "source": [
        "p_nlls = calc_p_nll(samples)\n",
        "p_nlls.shape"
      ]
    },
    {
      "cell_type": "markdown",
      "metadata": {
        "id": "HdEt2uU1g4qM"
      },
      "source": [
        "## Optimize"
      ]
    },
    {
      "cell_type": "code",
      "execution_count": 128,
      "metadata": {
        "id": "Gc6q2sg2JYeg"
      },
      "outputs": [
        {
          "name": "stdout",
          "output_type": "stream",
          "text": [
            "epoch=0: loss= 591.3127\n",
            "epoch=1: loss= 581.8459\n",
            "epoch=2: loss= 582.8884\n",
            "epoch=3: loss= 577.7267\n",
            "epoch=4: loss= 569.5424\n",
            "epoch=5: loss= 563.8992\n",
            "epoch=6: loss= 558.2569\n",
            "epoch=7: loss= 554.4103\n",
            "epoch=8: loss= 544.3384\n",
            "epoch=9: loss= 548.1510\n",
            "epoch=100: loss= 177.9917\n",
            "epoch=200: loss= 34.2460\n",
            "epoch=300: loss= 4.5056\n",
            "epoch=400: loss= 0.4106\n",
            "epoch=500: loss= 0.0527\n",
            "epoch=600: loss= 0.0097\n",
            "epoch=700: loss=-0.0003\n",
            "epoch=800: loss=-0.0129\n",
            "epoch=900: loss= 0.0169\n",
            "epoch=1000: loss= 0.0097\n",
            "epoch=1100: loss= 0.0074\n",
            "epoch=1200: loss=-0.0042\n",
            "epoch=1300: loss= 0.0014\n",
            "epoch=1400: loss= 0.0052\n",
            "epoch=1500: loss= 0.0152\n",
            "epoch=1600: loss=-0.0080\n",
            "epoch=1700: loss= 0.0076\n",
            "epoch=1800: loss=-0.0056\n",
            "epoch=1900: loss= 0.0077\n",
            "epoch=2000: loss=-0.0014\n",
            "epoch=2100: loss=-0.0047\n",
            "epoch=2200: loss=-0.0041\n",
            "epoch=2300: loss= 0.0223\n",
            "epoch=2400: loss= 0.0060\n",
            "epoch=2500: loss= 0.0097\n",
            "epoch=2600: loss= 0.0025\n",
            "epoch=2700: loss= 0.0108\n",
            "epoch=2800: loss= 0.0070\n",
            "epoch=2900: loss= 0.0125\n",
            "epoch=3000: loss=-0.0089\n",
            "epoch=3100: loss= 0.0030\n",
            "epoch=3200: loss=-0.0016\n",
            "epoch=3300: loss=-0.0031\n",
            "epoch=3400: loss= 0.0016\n",
            "epoch=3500: loss=-0.0085\n",
            "epoch=3600: loss= 0.0076\n",
            "epoch=3700: loss= 0.0110\n",
            "epoch=3800: loss= 0.0008\n",
            "epoch=3900: loss= 0.0980\n",
            "epoch=4000: loss= 0.0012\n",
            "epoch=4100: loss= 0.0030\n",
            "epoch=4200: loss= 0.0003\n",
            "epoch=4300: loss= 0.0152\n",
            "epoch=4400: loss=-0.0032\n",
            "epoch=4500: loss=-0.0120\n",
            "epoch=4600: loss= 0.0147\n",
            "epoch=4700: loss= 0.0061\n",
            "epoch=4800: loss=-0.0088\n",
            "epoch=4900: loss= 0.0133\n",
            "epoch=5000: loss=-0.0141\n",
            "epoch=5100: loss= 0.0153\n",
            "epoch=5200: loss= 0.0004\n",
            "epoch=5300: loss=-0.0047\n",
            "epoch=5400: loss=-0.0030\n",
            "epoch=5500: loss= 0.0290\n",
            "epoch=5600: loss= 0.0290\n",
            "epoch=5700: loss= 0.0172\n",
            "epoch=5800: loss= 0.0044\n",
            "epoch=5900: loss= 0.0127\n",
            "epoch=6000: loss= 0.0203\n",
            "epoch=6100: loss= 0.0082\n",
            "epoch=6200: loss= 0.0014\n",
            "epoch=6300: loss= 0.0231\n",
            "epoch=6400: loss= 0.0074\n",
            "epoch=6500: loss= 0.0132\n",
            "epoch=6600: loss= 0.0337\n",
            "epoch=6700: loss=-0.0120\n",
            "epoch=6800: loss= 0.0180\n",
            "epoch=6900: loss= 0.0165\n",
            "epoch=7000: loss= 0.0129\n",
            "epoch=7100: loss=-0.0085\n",
            "epoch=7200: loss= 0.0532\n",
            "epoch=7300: loss= 0.0048\n",
            "epoch=7400: loss= 0.0066\n",
            "epoch=7500: loss= 0.0001\n",
            "epoch=7600: loss= 0.0198\n",
            "epoch=7700: loss= 0.0111\n",
            "epoch=7800: loss= 0.0279\n",
            "epoch=7900: loss=-0.0007\n",
            "epoch=8000: loss=-0.0047\n",
            "epoch=8100: loss= 0.0216\n",
            "epoch=8200: loss= 0.0051\n",
            "epoch=8300: loss=-0.0011\n",
            "epoch=8400: loss= 0.0348\n",
            "epoch=8500: loss= 0.0238\n",
            "epoch=8600: loss= 0.0135\n",
            "epoch=8700: loss= 0.0103\n",
            "epoch=8800: loss=-0.0141\n",
            "epoch=8900: loss= 0.0191\n",
            "epoch=9000: loss=-0.0027\n",
            "epoch=9100: loss= 0.0106\n",
            "epoch=9200: loss= 0.0041\n",
            "epoch=9300: loss= 0.0039\n",
            "epoch=9400: loss= 0.0367\n",
            "epoch=9500: loss= 0.0009\n",
            "epoch=9600: loss= 0.0065\n",
            "epoch=9700: loss= 0.0318\n",
            "epoch=9800: loss= 0.0255\n",
            "epoch=9900: loss= 0.0060\n"
          ]
        }
      ],
      "source": [
        "optimized_parameters = variational_params.values()\n",
        "optimizer = torch.optim.Adam(optimized_parameters, lr=0.1) \n",
        "n_epochs = 10000\n",
        "n_posterior_samples = 100\n",
        "\n",
        "for e in range(n_epochs):\n",
        "    optimizer.zero_grad()\n",
        "\n",
        "    samples, q_nlls = sampler(n_samples=n_posterior_samples)\n",
        "    p_nlls = calc_p_nll(samples)\n",
        "    KLD = p_nlls-q_nlls\n",
        "\n",
        "    loss_vi = KLD.mean()\n",
        "    loss_vi.backward()\n",
        "    optimizer.step()\n",
        "\n",
        "    if e<10 or e%100==0:\n",
        "        print(f\"epoch={e}: loss={loss_vi: .4f}\")"
      ]
    },
    {
      "cell_type": "code",
      "execution_count": 129,
      "metadata": {},
      "outputs": [
        {
          "data": {
            "image/png": "[encoded data removed]",
            "text/plain": [
              "<Figure size 360x360 with 1 Axes>"
            ]
          },
          "metadata": {},
          "output_type": "display_data"
        }
      ],
      "source": [
        "samples, nlls = sampler(n_samples=10240)\n",
        "plt.hist(samples[:,0].cpu().detach().numpy(), bins=30);\n",
        "plt.title(\"Dim=0 distribution\");"
      ]
    },
    {
      "cell_type": "code",
      "execution_count": null,
      "metadata": {
        "id": "um_HOFQK-lEz"
      },
      "outputs": [],
      "source": []
    }
  ],
  "metadata": {
    "accelerator": "GPU",
    "colab": {
      "collapsed_sections": [
        "-C2DLYqynn54"
      ],
      "provenance": []
    },
    "gpuClass": "standard",
    "kernelspec": {
      "display_name": "Python 3.8.5 ('base')",
      "language": "python",
      "name": "python3"
    },
    "language_info": {
      "codemirror_mode": {
        "name": "ipython",
        "version": 3
      },
      "file_extension": ".py",
      "mimetype": "text/x-python",
      "name": "python",
      "nbconvert_exporter": "python",
      "pygments_lexer": "ipython3",
      "version": "3.8.5"
    },
    "vscode": {
      "interpreter": {
        "hash": "72dff520818572b45c401a256658ee25fa99b55260abeb0336ef1b1e43b37267"
      }
    }
  },
  "nbformat": 4,
  "nbformat_minor": 0
}
