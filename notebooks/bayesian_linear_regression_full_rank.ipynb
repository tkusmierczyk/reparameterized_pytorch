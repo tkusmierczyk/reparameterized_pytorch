{
  "cells": [
    {
      "cell_type": "markdown",
      "metadata": {
        "id": "GJcMJWZDBy2h"
      },
      "source": [
        "# Bayesian Linear Regression fit using full-rank Gaussian VI vs closed-form solution"
      ]
    },
    {
      "cell_type": "markdown",
      "metadata": {},
      "source": [
        "Compared to MFVI, here LR weight and bias samples come from the same (multi-parameter) sampler sampling from a full-rank Gaussian."
      ]
    },
    {
      "cell_type": "code",
      "execution_count": 1,
      "metadata": {},
      "outputs": [],
      "source": [
        "%load_ext autoreload\n",
        "%autoreload 2"
      ]
    },
    {
      "cell_type": "code",
      "execution_count": 2,
      "metadata": {
        "colab": {
          "base_uri": "https://localhost:8080/"
        },
        "id": "uJd1yRdoJgA7",
        "outputId": "ac8f8121-db81-47a0-f47e-eb001f0b38c8"
      },
      "outputs": [
        {
          "name": "stdout",
          "output_type": "stream",
          "text": [
            "Note: you may need to restart the kernel to use updated packages.\n"
          ]
        }
      ],
      "source": [
        "%pip install -q torch"
      ]
    },
    {
      "cell_type": "code",
      "execution_count": 3,
      "metadata": {
        "id": "PkWZ_bKBJYeT"
      },
      "outputs": [],
      "source": [
        "import numpy as np\n",
        "\n",
        "import torch\n",
        "from torch.nn.functional import softplus"
      ]
    },
    {
      "cell_type": "code",
      "execution_count": 4,
      "metadata": {},
      "outputs": [],
      "source": [
        "import sys\n",
        "sys.path.append(\"../\")"
      ]
    },
    {
      "cell_type": "code",
      "execution_count": 5,
      "metadata": {},
      "outputs": [],
      "source": [
        "import reparameterized as r\n",
        "from reparameterized import sampling\n",
        "from reparameterized import likelihoods\n",
        "from reparameterized import densities"
      ]
    },
    {
      "cell_type": "code",
      "execution_count": 6,
      "metadata": {
        "id": "JVdgdm7Cd5UI"
      },
      "outputs": [],
      "source": [
        "from matplotlib import pyplot as plt\n",
        "plt.rcParams['figure.figsize'] = (5, 5) # Width and height"
      ]
    },
    {
      "cell_type": "code",
      "execution_count": 7,
      "metadata": {
        "colab": {
          "base_uri": "https://localhost:8080/"
        },
        "id": "uiEnOgwGJaEn",
        "outputId": "c8936bc9-58b4-4ecf-fcea-88d08592c3c4"
      },
      "outputs": [
        {
          "name": "stdout",
          "output_type": "stream",
          "text": [
            "Using CPU\n"
          ]
        }
      ],
      "source": [
        "if torch.cuda.is_available():\n",
        "    torch.set_default_tensor_type('torch.cuda.FloatTensor')\n",
        "    env = torch.cuda\n",
        "    print(\"Using GPU\")\n",
        "else:\n",
        "    torch.set_default_tensor_type('torch.FloatTensor')\n",
        "    env = torch\n",
        "    print(\"Using CPU\")"
      ]
    },
    {
      "cell_type": "markdown",
      "metadata": {
        "id": "kTKZ15jMg0nN"
      },
      "source": [
        "## Data"
      ]
    },
    {
      "cell_type": "code",
      "execution_count": 8,
      "metadata": {},
      "outputs": [],
      "source": [
        "SEED = 123\n",
        "\n",
        "torch.manual_seed(SEED)\n",
        "np.random.seed(SEED)"
      ]
    },
    {
      "cell_type": "code",
      "execution_count": 9,
      "metadata": {
        "id": "18IvegmjJYea"
      },
      "outputs": [],
      "source": [
        "def generate_toy_data(N):\n",
        "    x_data = np.float32(np.random.uniform(-10.5, 10.5, (1, N))).T\n",
        "    r_data = np.float32(np.random.normal(size=(N,1)))\n",
        "    y_data = np.float32(np.sin(0.75*x_data)*7.0+x_data*0.5+r_data*2.0)+10\n",
        "    \n",
        "    mask = (x_data<0.0) | (x_data>5.0)\n",
        "    r_data = r_data[mask]\n",
        "    y_data = y_data[mask, None]\n",
        "    x_data = x_data[mask, None]\n",
        "\n",
        "    return x_data, y_data, r_data\n",
        "\n",
        "\n",
        "x_data, y_data, r_data = generate_toy_data(100)"
      ]
    },
    {
      "cell_type": "code",
      "execution_count": 10,
      "metadata": {},
      "outputs": [
        {
          "data": {
            "image/png": "[encoded data removed]",
            "text/plain": [
              "<Figure size 360x360 with 1 Axes>"
            ]
          },
          "metadata": {
            "needs_background": "light"
          },
          "output_type": "display_data"
        }
      ],
      "source": [
        "plt.scatter(x_data, y_data, color=\"salmon\");"
      ]
    },
    {
      "cell_type": "code",
      "execution_count": 11,
      "metadata": {
        "colab": {
          "base_uri": "https://localhost:8080/",
          "height": 356
        },
        "id": "7pbiMR-uuQw0",
        "outputId": "23ab92bf-fc5f-4e78-ecd3-44c98cd8f6d2"
      },
      "outputs": [
        {
          "name": "stdout",
          "output_type": "stream",
          "text": [
            "x=torch.Size([64, 1]) y=torch.Size([64, 1])\n"
          ]
        }
      ],
      "source": [
        "x = torch.tensor(x_data, dtype = torch.float, requires_grad=False)\n",
        "y = torch.tensor(y_data, dtype = torch.float, requires_grad=False)\n",
        "\n",
        "print(\"x=%s y=%s\" % (x.shape, y.shape))"
      ]
    },
    {
      "cell_type": "markdown",
      "metadata": {
        "id": "WfXPH8s9fvK4"
      },
      "source": [
        "## Visualisation code"
      ]
    },
    {
      "cell_type": "code",
      "execution_count": 12,
      "metadata": {
        "id": "WzpelbYIfcCh"
      },
      "outputs": [],
      "source": [
        "def plot_with_errortunnel(x, y, yerr, color=None, alpha_fill=0.2, ax=None, label=\"\", lw=1):\n",
        "    ax = ax if ax is not None else plt.gca()\n",
        "    if color is None:\n",
        "        color = ax._get_lines.color_cycle.next()\n",
        "    if np.isscalar(yerr) or len(yerr) == len(y):\n",
        "        ymin = y - yerr\n",
        "        ymax = y + yerr\n",
        "    elif len(yerr) == 2:\n",
        "        ymin, ymax = yerr\n",
        "    ax.plot(x, y, color=color, label=label, lw=lw)\n",
        "    ax.fill_between(x, ymax, ymin, color=color, alpha=alpha_fill, linewidth=0.0)\n",
        " \n",
        " \n",
        "def numpy(tensor):\n",
        "    return tensor.cpu().detach().numpy()\n",
        "\n",
        "\n",
        "def linspace1(x):\n",
        "    x2, x1 = numpy(x.flatten().max().cpu()), numpy(x.flatten().min().cpu())\n",
        "    rng = (x2-x1)*0.5\n",
        "    xs = np.arange(x1-rng, x2+rng, 0.5)\n",
        "    xs = torch.tensor([[v] for v in xs], dtype=torch.float32)            \n",
        "    return xs\n",
        "\n",
        "\n",
        "def plot_fit(x, y, xs, ys, plot_samples=True, plot_error=True):  \n",
        "    x, y, xs, ys = numpy(x), numpy(y), numpy(xs), numpy(ys)\n",
        "    plt.scatter(x.flatten(), y.flatten(), label=\"data\", color=\"salmon\")\n",
        "    \n",
        "    if plot_samples:\n",
        "        for y1 in ys:\n",
        "            plt.plot(xs.flatten(), y1.flatten(), lw=1)\n",
        "\n",
        "    ym, ys = ys.mean(0), ys.std(0)         \n",
        "    if plot_error:\n",
        "        plot_with_errortunnel(xs.flatten(), ym.flatten(), 2*ys.flatten(), color=\"dodgerblue\", label=\"BNN (m+/-2*s\", lw=2)\n",
        "    else:\n",
        "        plt.plot(xs.flatten(), ym.flatten(), color=\"dodgerblue\", label=\"BNN\", lw=2)\n",
        "        \n",
        "    plt.legend();"
      ]
    },
    {
      "cell_type": "markdown",
      "metadata": {
        "id": "HdEt2uU1g4qM"
      },
      "source": [
        "## Network"
      ]
    },
    {
      "cell_type": "code",
      "execution_count": 13,
      "metadata": {
        "id": "Gc6q2sg2JYeg"
      },
      "outputs": [],
      "source": [
        "INPUT_DIM = 1\n",
        "OUTPUT_DIM = 1\n",
        "\n",
        "# Linear regression model\n",
        "model = torch.nn.Sequential(\n",
        "    torch.nn.Linear(INPUT_DIM, OUTPUT_DIM),\n",
        "    )    \n",
        " \n",
        "\n",
        "assert torch.Size([INPUT_DIM])==x.shape[1:]\n",
        "assert torch.Size([OUTPUT_DIM])==y.shape[1:]"
      ]
    },
    {
      "cell_type": "markdown",
      "metadata": {
        "id": "gGVx0r32B9YK"
      },
      "source": [
        "List model parameters:"
      ]
    },
    {
      "cell_type": "code",
      "execution_count": 14,
      "metadata": {
        "colab": {
          "base_uri": "https://localhost:8080/"
        },
        "id": "6vkVkh6Bh5mv",
        "outputId": "d494d89d-b1f9-4a1e-938b-bace4397b8f1"
      },
      "outputs": [
        {
          "data": {
            "text/plain": [
              "dict_keys(['0.weight', '0.bias'])"
            ]
          },
          "execution_count": 14,
          "metadata": {},
          "output_type": "execute_result"
        }
      ],
      "source": [
        "dict(model.named_parameters()).keys()"
      ]
    },
    {
      "cell_type": "markdown",
      "metadata": {
        "id": "5yi11c7oV4x8"
      },
      "source": [
        "## Priors"
      ]
    },
    {
      "cell_type": "code",
      "execution_count": 15,
      "metadata": {
        "id": "LmPkkhP-ViwN"
      },
      "outputs": [],
      "source": [
        "parameters2nllfunc = {}\n",
        "for parameter_name, parameter_value in model.named_parameters():\n",
        "    parameters2nllfunc[parameter_name] = densities.create_gaussian_nll(parameter_value.shape)"
      ]
    },
    {
      "cell_type": "markdown",
      "metadata": {},
      "source": [
        "## Likelihood"
      ]
    },
    {
      "cell_type": "code",
      "execution_count": 16,
      "metadata": {},
      "outputs": [],
      "source": [
        "LIKELIHOOD_SIGMA = 2\n",
        "\n",
        "def predictive_distribution_sampler(logits, **kwargs): \n",
        "    return likelihoods.factorized_gaussian_with_fixed_scale_sample(logits, scale=LIKELIHOOD_SIGMA, **kwargs)\n",
        "\n",
        "def predictive_distribution_log_lik(logits, output_y, **kwargs): \n",
        "    return likelihoods.factorized_gaussian_with_fixed_scale_log_prob(logits, output_y, scale=LIKELIHOOD_SIGMA, **kwargs)"
      ]
    },
    {
      "cell_type": "markdown",
      "metadata": {
        "id": "9D7EgkWdruSn"
      },
      "source": [
        "## Create samplers for parameters"
      ]
    },
    {
      "cell_type": "markdown",
      "metadata": {
        "id": "J38TtATn0yWC"
      },
      "source": [
        "List of samplers and variational parameters to be optimized"
      ]
    },
    {
      "cell_type": "code",
      "execution_count": 17,
      "metadata": {
        "id": "Ji54HbaQtqni"
      },
      "outputs": [],
      "source": [
        "parameters2sampler = {}\n",
        "variational_params = []\n",
        "\n",
        "is_parameter_already_handled = lambda parameter_name: r.is_parameter_handled(parameters2sampler.items(), parameter_name)"
      ]
    },
    {
      "cell_type": "markdown",
      "metadata": {
        "id": "7jFY9QkY84uU"
      },
      "source": [
        "Register parameters to be modeled jointly with full-rank\n",
        " Gaussian"
      ]
    },
    {
      "cell_type": "code",
      "execution_count": 18,
      "metadata": {},
      "outputs": [],
      "source": [
        "sampler, variational_params1, aux_objs = sampling.create_multiparameter_sampler(sampling.create_gaussian_tril_sampler, model.named_parameters())\n",
        "\n",
        "names = tuple(n for n, _ in model.named_parameters())\n",
        "parameters2sampler[names] = sampler\n",
        "variational_params.extend(variational_params1.items())"
      ]
    },
    {
      "cell_type": "markdown",
      "metadata": {},
      "source": [
        "**Note, we use only one sampler returning joint samples for all parameters.**"
      ]
    },
    {
      "cell_type": "markdown",
      "metadata": {
        "id": "3_7JDyMt1R2W"
      },
      "source": [
        "# Preview sample"
      ]
    },
    {
      "cell_type": "code",
      "execution_count": 19,
      "metadata": {},
      "outputs": [
        {
          "name": "stdout",
          "output_type": "stream",
          "text": [
            "samplers:\n"
          ]
        },
        {
          "data": {
            "text/plain": [
              "{('0.weight',\n",
              "  '0.bias'): <function reparameterized.sampling.multiparameter._multiparameter_sampler_unpack.<locals>.wrapped_sampler(n_samples=1)>}"
            ]
          },
          "metadata": {},
          "output_type": "display_data"
        }
      ],
      "source": [
        "print(\"samplers:\")\n",
        "display(parameters2sampler)"
      ]
    },
    {
      "cell_type": "code",
      "execution_count": 20,
      "metadata": {},
      "outputs": [
        {
          "name": "stdout",
          "output_type": "stream",
          "text": [
            "variational parameters:\n"
          ]
        },
        {
          "data": {
            "text/plain": [
              "[('loc', torch.Size([2])),\n",
              " ('unnormalized_diag', torch.Size([2])),\n",
              " ('cov_tril', torch.Size([2, 2]))]"
            ]
          },
          "metadata": {},
          "output_type": "display_data"
        }
      ],
      "source": [
        "print(\"variational parameters:\")\n",
        "display([(vn, vp.shape) for vn, vp in variational_params])"
      ]
    },
    {
      "cell_type": "code",
      "execution_count": 21,
      "metadata": {
        "id": "WVRjL_Vb3Cyc"
      },
      "outputs": [],
      "source": [
        "parameters_samples, nlls = r.sample_parameters(parameters2sampler.items(), 3)"
      ]
    },
    {
      "cell_type": "code",
      "execution_count": 22,
      "metadata": {
        "colab": {
          "base_uri": "https://localhost:8080/"
        },
        "id": "nAElvBuKsutz",
        "outputId": "9906dfbf-fb99-44eb-c0f1-bbeedda8266d"
      },
      "outputs": [
        {
          "name": "stdout",
          "output_type": "stream",
          "text": [
            "parameters' sample:\n"
          ]
        },
        {
          "data": {
            "text/plain": [
              "{'0.weight': torch.Size([3, 1, 1]), '0.bias': torch.Size([3, 1])}"
            ]
          },
          "execution_count": 22,
          "metadata": {},
          "output_type": "execute_result"
        }
      ],
      "source": [
        "print(\"parameters' sample:\")\n",
        "{n: s.shape for n, s in parameters_samples.items()}"
      ]
    },
    {
      "cell_type": "code",
      "execution_count": 23,
      "metadata": {
        "colab": {
          "base_uri": "https://localhost:8080/"
        },
        "id": "cBNkS9FM1V6g",
        "outputId": "a72458d3-c921-45db-fb8d-deea62b85f9f"
      },
      "outputs": [
        {
          "name": "stdout",
          "output_type": "stream",
          "text": [
            "parameters' NLLs:\n"
          ]
        },
        {
          "data": {
            "text/plain": [
              "{('0.weight',\n",
              "  '0.bias'): tensor([4.9681, 3.7646, 2.2191], grad_fn=<NegBackward0>)}"
            ]
          },
          "execution_count": 23,
          "metadata": {},
          "output_type": "execute_result"
        }
      ],
      "source": [
        "print(\"parameters' NLLs:\")\n",
        "nlls"
      ]
    },
    {
      "cell_type": "code",
      "execution_count": 24,
      "metadata": {
        "colab": {
          "base_uri": "https://localhost:8080/"
        },
        "id": "QkAbLF_UVB3s",
        "outputId": "a47fe134-088d-4be0-8104-e3a7fd4382ae"
      },
      "outputs": [
        {
          "data": {
            "text/plain": [
              "torch.Size([6, 64, 1])"
            ]
          },
          "execution_count": 24,
          "metadata": {},
          "output_type": "execute_result"
        }
      ],
      "source": [
        "r.sample_predictive(x, model, parameters_samples, predictive_distribution_sampler, n_samples=2, flatten_samples_dims=True).shape"
      ]
    },
    {
      "cell_type": "code",
      "execution_count": 25,
      "metadata": {
        "colab": {
          "base_uri": "https://localhost:8080/"
        },
        "id": "wMK1M-vcYxkv",
        "outputId": "291b25f9-3f8f-40a1-e040-edde416bbabf"
      },
      "outputs": [
        {
          "data": {
            "text/plain": [
              "torch.Size([3, 64])"
            ]
          },
          "execution_count": 25,
          "metadata": {},
          "output_type": "execute_result"
        }
      ],
      "source": [
        "r.predictive_likelihoods(x, y, model, parameters_samples, predictive_distribution_log_lik).shape"
      ]
    },
    {
      "cell_type": "markdown",
      "metadata": {
        "id": "VqLQg7NvguxA"
      },
      "source": [
        "## Learning"
      ]
    },
    {
      "cell_type": "code",
      "execution_count": 26,
      "metadata": {
        "colab": {
          "base_uri": "https://localhost:8080/",
          "height": 332
        },
        "id": "cD4dC0iFctTB",
        "outputId": "a246291e-f201-48ff-db00-0ea2c00ec530"
      },
      "outputs": [
        {
          "data": {
            "image/png": "[encoded data removed]",
            "text/plain": [
              "<Figure size 360x360 with 1 Axes>"
            ]
          },
          "metadata": {
            "needs_background": "light"
          },
          "output_type": "display_data"
        }
      ],
      "source": [
        "parameters_samples, nlls = r.sample_parameters(parameters2sampler.items(), 10)\n",
        "xs = linspace1(x)\n",
        "ys = r.sample_predictive(xs, model, parameters_samples, \n",
        "                        sampler=predictive_distribution_sampler, \n",
        "                        n_samples=1, \n",
        "                       )\n",
        "\n",
        "plot_fit(x, y, xs, ys)\n",
        "plt.title(\"before learning\")\n",
        "plt.show()"
      ]
    },
    {
      "cell_type": "code",
      "execution_count": 27,
      "metadata": {
        "colab": {
          "base_uri": "https://localhost:8080/"
        },
        "id": "HgRQ6dDMJYer",
        "outputId": "b88b19fd-06f6-41e0-9836-95702e68bd30"
      },
      "outputs": [
        {
          "name": "stdout",
          "output_type": "stream",
          "text": [
            "epoch=0: elbo = -7679.90 (= -7670.15 [+] -16.85 [-] -7.10)\n",
            "epoch=1: elbo = -1701.48 (= -1698.93 [+] -5.65 [-] -3.10)\n",
            "epoch=2: elbo = -891.89 (= -892.04 [+] -1.87 [-] -2.02)\n",
            "epoch=3: elbo = -1105.49 (= -1105.17 [+] -2.60 [-] -2.28)\n",
            "epoch=4: elbo = -873.46 (= -874.02 [+] -1.89 [-] -2.44)\n",
            "epoch=5: elbo = -990.65 (= -990.94 [+] -2.11 [-] -2.40)\n",
            "epoch=6: elbo = -6138.66 (= -6126.93 [+] -16.88 [-] -5.15)\n",
            "epoch=7: elbo = -1324.17 (= -1323.88 [+] -2.84 [-] -2.54)\n",
            "epoch=8: elbo = -1495.00 (= -1492.59 [+] -6.90 [-] -4.49)\n",
            "epoch=9: elbo = -1468.23 (= -1467.12 [+] -3.39 [-] -2.28)\n",
            "epoch=1000: elbo = -428.35 (= -404.89 [+] -25.52 [-] -2.07)\n",
            "epoch=2000: elbo = -381.09 (= -347.89 [+] -32.62 [-]  0.57)\n",
            "epoch=3000: elbo = -376.25 (= -342.97 [+] -31.80 [-]  1.48)\n",
            "epoch=4000: elbo = -376.90 (= -343.32 [+] -31.83 [-]  1.75)\n",
            "epoch=5000: elbo = -376.97 (= -346.65 [+] -29.52 [-]  0.81)\n",
            "epoch=6000: elbo = -377.97 (= -345.99 [+] -32.82 [-] -0.85)\n",
            "epoch=7000: elbo = -376.58 (= -342.77 [+] -31.76 [-]  2.05)\n",
            "epoch=8000: elbo = -376.69 (= -340.81 [+] -33.19 [-]  2.68)\n",
            "epoch=9000: elbo = -375.80 (= -339.78 [+] -34.76 [-]  1.26)\n"
          ]
        }
      ],
      "source": [
        "optimized_parameters = [vp for _, vp in variational_params]\n",
        "optimizer = torch.optim.Adam(optimized_parameters, lr=0.01) \n",
        "\n",
        "n_posterior_samples = 1\n",
        "n_epochs = 10000\n",
        "\n",
        "for e in range(n_epochs):\n",
        "    optimizer.zero_grad()\n",
        "\n",
        "    # sampling from approximate posterior\n",
        "    parameters_samples, posterior_nlls = r.sample_parameters(parameters2sampler, n_samples=n_posterior_samples)\n",
        "    posterior_nlls = torch.stack(list(posterior_nlls.values()))  # out shape: n_param_groups x n_posterior_samples\n",
        "    log_q = -posterior_nlls.sum(0)\n",
        "\n",
        "    # priors\n",
        "    prior_nlls = r.estimate_parameters_nll(parameters2nllfunc, parameters_samples)\n",
        "    prior_nlls = torch.stack(list(prior_nlls.values()))  # out shape: n_param_groups x n_posterior_samples\n",
        "    log_p = -prior_nlls.sum(0)\n",
        "\n",
        "    # estimating likelihoods of observed y\n",
        "    logliks = r.predictive_likelihoods(x, y, model, parameters_samples, predictive_distribution_log_lik)\n",
        "    assert logliks.shape==torch.Size([n_posterior_samples, len(y)])\n",
        "    logliks = logliks.sum(1) # sum over data points\n",
        "    \n",
        "    elbo = logliks+log_p-log_q\n",
        "    elbo = elbo.mean()  # average over posterior samples\n",
        "\n",
        "    loss_vi = -elbo\n",
        "    loss_vi.backward()\n",
        "    optimizer.step()\n",
        "\n",
        "    if e<10 or e%1000==0:\n",
        "        print(f\"epoch={e}: elbo = {elbo: .2f} (= {logliks.mean(): .2f} [+] {log_p.mean(): .2f} [-] {log_q.mean(): .2f})\")"
      ]
    },
    {
      "cell_type": "code",
      "execution_count": 28,
      "metadata": {},
      "outputs": [
        {
          "data": {
            "image/png": "[encoded data removed]",
            "text/plain": [
              "<Figure size 360x360 with 1 Axes>"
            ]
          },
          "metadata": {
            "needs_background": "light"
          },
          "output_type": "display_data"
        }
      ],
      "source": [
        "parameters_samples, nlls = r.sample_parameters(parameters2sampler, 10)\n",
        "xs = linspace1(x)\n",
        "ys = r.sample_predictive(xs, model, parameters_samples, \n",
        "                        sampler=predictive_distribution_sampler, \n",
        "                        n_samples=1, \n",
        "                       )\n",
        "\n",
        "plot_fit(x, y, xs, ys)\n",
        "plt.title(\"after learning\")\n",
        "plt.show()"
      ]
    },
    {
      "cell_type": "markdown",
      "metadata": {
        "id": "FMLYtaZFBoFm"
      },
      "source": [
        "# Linear Regression Bayesian true (closed-form) posterior"
      ]
    },
    {
      "cell_type": "markdown",
      "metadata": {
        "id": "O_qCizafZv1z"
      },
      "source": [
        "See Bishop's book"
      ]
    },
    {
      "cell_type": "code",
      "execution_count": 29,
      "metadata": {
        "id": "1yIXrPEr7dDU"
      },
      "outputs": [],
      "source": [
        "psi = np.hstack([x_data, np.ones(x_data.shape)])\n",
        "t = y_data"
      ]
    },
    {
      "cell_type": "code",
      "execution_count": 30,
      "metadata": {
        "id": "elCPvgtiEQwf"
      },
      "outputs": [
        {
          "data": {
            "text/plain": [
              "((64, 2), (64, 1))"
            ]
          },
          "execution_count": 30,
          "metadata": {},
          "output_type": "execute_result"
        }
      ],
      "source": [
        "psi.shape, t.shape"
      ]
    },
    {
      "cell_type": "code",
      "execution_count": 31,
      "metadata": {
        "id": "KH-ZfaL-_hwr"
      },
      "outputs": [],
      "source": [
        "#likelihood precision:\n",
        "beta = 1./(LIKELIHOOD_SIGMA*LIKELIHOOD_SIGMA)\n",
        "\n",
        "#prior:\n",
        "S0 = np.eye(psi.shape[-1])\n",
        "m0 = np.zeros(psi.shape[-1]).reshape(-1, 1)"
      ]
    },
    {
      "cell_type": "code",
      "execution_count": 32,
      "metadata": {
        "id": "wsl3q5Ys7_sJ"
      },
      "outputs": [],
      "source": [
        "SN = np.linalg.inv( np.linalg.inv(S0) + beta*np.dot(psi.T, psi) ) # covariance matrix (Bishop 3.50)"
      ]
    },
    {
      "cell_type": "code",
      "execution_count": 33,
      "metadata": {
        "id": "YPZEyITg_uld"
      },
      "outputs": [],
      "source": [
        "mN = np.dot(SN, np.dot(np.linalg.inv(S0), m0) + beta*np.dot(psi.T, t)) # means (Bishop 3.51)"
      ]
    },
    {
      "cell_type": "markdown",
      "metadata": {},
      "source": [
        "Compare expectations (means):"
      ]
    },
    {
      "cell_type": "code",
      "execution_count": 34,
      "metadata": {
        "id": "jqLCbzz5AmTr"
      },
      "outputs": [
        {
          "data": {
            "text/plain": [
              "array([[0.37413242],\n",
              "       [7.83990305]])"
            ]
          },
          "execution_count": 34,
          "metadata": {},
          "output_type": "execute_result"
        }
      ],
      "source": [
        "mN"
      ]
    },
    {
      "cell_type": "code",
      "execution_count": 35,
      "metadata": {},
      "outputs": [
        {
          "data": {
            "text/plain": [
              "(tensor(0.3891, grad_fn=<MeanBackward0>),\n",
              " tensor(7.8643, grad_fn=<MeanBackward0>))"
            ]
          },
          "execution_count": 35,
          "metadata": {},
          "output_type": "execute_result"
        }
      ],
      "source": [
        "# empirically estimate means for the VI solution:\n",
        "parameters_samples, nlls = r.sample_parameters(parameters2sampler.items(), n_samples=1000000)\n",
        "parameters_samples['0.weight'].mean(), parameters_samples['0.bias'].mean()"
      ]
    },
    {
      "cell_type": "markdown",
      "metadata": {},
      "source": [
        "Compare covariance:"
      ]
    },
    {
      "cell_type": "code",
      "execution_count": 36,
      "metadata": {
        "id": "pj-hoGZ1A9Ba"
      },
      "outputs": [
        {
          "data": {
            "text/plain": [
              "array([[0.0018352 , 0.00256277],\n",
              "       [0.00256277, 0.06240231]])"
            ]
          },
          "execution_count": 36,
          "metadata": {},
          "output_type": "execute_result"
        }
      ],
      "source": [
        "SN"
      ]
    },
    {
      "cell_type": "code",
      "execution_count": 37,
      "metadata": {},
      "outputs": [
        {
          "data": {
            "text/plain": [
              "tensor([[0.0019, 0.0031],\n",
              "        [0.0031, 0.0590]], grad_fn=<SqueezeBackward0>)"
            ]
          },
          "execution_count": 37,
          "metadata": {},
          "output_type": "execute_result"
        }
      ],
      "source": [
        "# empirically estimate covariance matrix for the VI solution:\n",
        "parameters_samples, nlls = r.sample_parameters(parameters2sampler.items(), n_samples=1000000)\n",
        "samples_weight, samples_bias = parameters_samples['0.weight'].flatten(), parameters_samples['0.bias'].flatten()\n",
        "samples = torch.stack([samples_weight, samples_bias], dim=0)\n",
        "torch.cov(samples)"
      ]
    },
    {
      "cell_type": "code",
      "execution_count": null,
      "metadata": {},
      "outputs": [],
      "source": []
    },
    {
      "cell_type": "code",
      "execution_count": null,
      "metadata": {},
      "outputs": [],
      "source": []
    }
  ],
  "metadata": {
    "accelerator": "GPU",
    "colab": {
      "collapsed_sections": [
        "-C2DLYqynn54"
      ],
      "provenance": []
    },
    "gpuClass": "standard",
    "kernelspec": {
      "display_name": "Python 3.8.5 ('base')",
      "language": "python",
      "name": "python3"
    },
    "language_info": {
      "codemirror_mode": {
        "name": "ipython",
        "version": 3
      },
      "file_extension": ".py",
      "mimetype": "text/x-python",
      "name": "python",
      "nbconvert_exporter": "python",
      "pygments_lexer": "ipython3",
      "version": "3.8.5"
    },
    "vscode": {
      "interpreter": {
        "hash": "72dff520818572b45c401a256658ee25fa99b55260abeb0336ef1b1e43b37267"
      }
    }
  },
  "nbformat": 4,
  "nbformat_minor": 0
}
