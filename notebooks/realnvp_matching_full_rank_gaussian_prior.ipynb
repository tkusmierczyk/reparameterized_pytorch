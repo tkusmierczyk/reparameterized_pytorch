{
  "cells": [
    {
      "cell_type": "markdown",
      "metadata": {
        "id": "GJcMJWZDBy2h"
      },
      "source": [
        "# Matching q=NF to p=Normal by minimizing KL(q|p)"
      ]
    },
    {
      "cell_type": "code",
      "execution_count": 20,
      "metadata": {
        "colab": {
          "base_uri": "https://localhost:8080/"
        },
        "id": "uJd1yRdoJgA7",
        "outputId": "ac8f8121-db81-47a0-f47e-eb001f0b38c8"
      },
      "outputs": [
        {
          "name": "stdout",
          "output_type": "stream",
          "text": [
            "The autoreload extension is already loaded. To reload it, use:\n",
            "  %reload_ext autoreload\n",
            "Note: you may need to restart the kernel to use updated packages.\n"
          ]
        }
      ],
      "source": [
        "%load_ext autoreload\n",
        "%autoreload 2\n",
        "%pip install -q torch"
      ]
    },
    {
      "cell_type": "code",
      "execution_count": 21,
      "metadata": {
        "id": "PkWZ_bKBJYeT"
      },
      "outputs": [],
      "source": [
        "import torch\n",
        "\n",
        "from torch.distributions import MultivariateNormal\n"
      ]
    },
    {
      "cell_type": "code",
      "execution_count": 22,
      "metadata": {
        "colab": {
          "base_uri": "https://localhost:8080/"
        },
        "id": "uiEnOgwGJaEn",
        "outputId": "c8936bc9-58b4-4ecf-fcea-88d08592c3c4"
      },
      "outputs": [
        {
          "name": "stdout",
          "output_type": "stream",
          "text": [
            "Using CPU\n"
          ]
        }
      ],
      "source": [
        "if torch.cuda.is_available():\n",
        "    torch.set_default_tensor_type('torch.cuda.FloatTensor')\n",
        "    ENV = torch.cuda\n",
        "    print(\"Using GPU\")\n",
        "else:\n",
        "    torch.set_default_tensor_type('torch.FloatTensor')\n",
        "    ENV = torch\n",
        "    print(\"Using CPU\")"
      ]
    },
    {
      "cell_type": "code",
      "execution_count": 23,
      "metadata": {
        "id": "JVdgdm7Cd5UI"
      },
      "outputs": [],
      "source": [
        "from matplotlib import pyplot as plt\n",
        "plt.rcParams['figure.figsize'] = (5, 5) # Width and height"
      ]
    },
    {
      "cell_type": "code",
      "execution_count": 24,
      "metadata": {},
      "outputs": [],
      "source": [
        "import sys\n",
        "sys.path.append(\"../\")"
      ]
    },
    {
      "cell_type": "code",
      "execution_count": 25,
      "metadata": {},
      "outputs": [],
      "source": [
        "import reparametrized as r\n",
        "from reparametrized import sampling\n",
        "from reparametrized import densities"
      ]
    },
    {
      "cell_type": "markdown",
      "metadata": {},
      "source": [
        "## Dimensionality"
      ]
    },
    {
      "cell_type": "code",
      "execution_count": 26,
      "metadata": {
        "id": "18IvegmjJYea"
      },
      "outputs": [],
      "source": [
        "parameter_shape = (6, )  # parameters dimensionality\n",
        "\n",
        "# some samplers initialize with this value; others just match its shape\n",
        "parameter_init_value = torch.randn(torch.Size(parameter_shape))  "
      ]
    },
    {
      "cell_type": "markdown",
      "metadata": {},
      "source": [
        "## Create target p"
      ]
    },
    {
      "cell_type": "code",
      "execution_count": 27,
      "metadata": {},
      "outputs": [],
      "source": [
        "# calc_p_nll = densities.create_gaussian_nll(parameter_shape)  # factorized Normal(0, I)"
      ]
    },
    {
      "cell_type": "markdown",
      "metadata": {},
      "source": [
        "Custom full-rank Gaussian target:"
      ]
    },
    {
      "cell_type": "code",
      "execution_count": 28,
      "metadata": {},
      "outputs": [],
      "source": [
        "t = torch.tensor(range(parameter_shape[0]))*3.\n",
        "cov = t[None,:]*t[:,None]+300*torch.eye(parameter_shape[0])\n",
        "for i, j in [(1, 3), (5, 3)]:\n",
        "    cov[i, j] = -cov[i, j]\n",
        "    cov[j, i] = -cov[j, i]\n",
        "loc = torch.tensor(range(parameter_shape[0], 0, -1))*2.\n",
        "p = MultivariateNormal(loc=loc, covariance_matrix=cov)\n",
        "\n",
        "def calc_p_nll(samples):\n",
        "    return -p.log_prob(samples)"
      ]
    },
    {
      "cell_type": "code",
      "execution_count": 29,
      "metadata": {},
      "outputs": [
        {
          "data": {
            "text/plain": [
              "(tensor([12., 10.,  8.,  6.,  4.,  2.]),\n",
              " tensor([[ 300.,    0.,    0.,    0.,    0.,    0.],\n",
              "         [   0.,  309.,   18.,  -27.,   36.,   45.],\n",
              "         [   0.,   18.,  336.,   54.,   72.,   90.],\n",
              "         [   0.,  -27.,   54.,  381.,  108., -135.],\n",
              "         [   0.,   36.,   72.,  108.,  444.,  180.],\n",
              "         [   0.,   45.,   90., -135.,  180.,  525.]]))"
            ]
          },
          "execution_count": 29,
          "metadata": {},
          "output_type": "execute_result"
        }
      ],
      "source": [
        "loc, cov"
      ]
    },
    {
      "cell_type": "markdown",
      "metadata": {},
      "source": [
        "## Create q"
      ]
    },
    {
      "cell_type": "code",
      "execution_count": 30,
      "metadata": {},
      "outputs": [],
      "source": [
        "sampler, variational_params, aux_objs = sampling.create_flow_sampler(parameter_init_value, \n",
        "                                                                     realnvp_m=8,  # change default parameters!\n",
        "                                                                     realnvp_num_layers=16,\n",
        "                                                                     rezero_trick=False,  # seems to work better with random initialization\n",
        "                                                                     )"
      ]
    },
    {
      "cell_type": "code",
      "execution_count": 31,
      "metadata": {},
      "outputs": [
        {
          "data": {
            "text/plain": [
              "{'t.0.0.weight': torch.Size([8, 3]),\n",
              " 't.0.0.bias': torch.Size([8]),\n",
              " 't.0.2.weight': torch.Size([8, 8]),\n",
              " 't.0.2.bias': torch.Size([8]),\n",
              " 't.0.4.weight': torch.Size([3, 8]),\n",
              " 't.0.4.bias': torch.Size([3]),\n",
              " 't.1.0.weight': torch.Size([8, 3]),\n",
              " 't.1.0.bias': torch.Size([8]),\n",
              " 't.1.2.weight': torch.Size([8, 8]),\n",
              " 't.1.2.bias': torch.Size([8]),\n",
              " 't.1.4.weight': torch.Size([3, 8]),\n",
              " 't.1.4.bias': torch.Size([3]),\n",
              " 't.2.0.weight': torch.Size([8, 3]),\n",
              " 't.2.0.bias': torch.Size([8]),\n",
              " 't.2.2.weight': torch.Size([8, 8]),\n",
              " 't.2.2.bias': torch.Size([8]),\n",
              " 't.2.4.weight': torch.Size([3, 8]),\n",
              " 't.2.4.bias': torch.Size([3]),\n",
              " 't.3.0.weight': torch.Size([8, 3]),\n",
              " 't.3.0.bias': torch.Size([8]),\n",
              " 't.3.2.weight': torch.Size([8, 8]),\n",
              " 't.3.2.bias': torch.Size([8]),\n",
              " 't.3.4.weight': torch.Size([3, 8]),\n",
              " 't.3.4.bias': torch.Size([3]),\n",
              " 't.4.0.weight': torch.Size([8, 3]),\n",
              " 't.4.0.bias': torch.Size([8]),\n",
              " 't.4.2.weight': torch.Size([8, 8]),\n",
              " 't.4.2.bias': torch.Size([8]),\n",
              " 't.4.4.weight': torch.Size([3, 8]),\n",
              " 't.4.4.bias': torch.Size([3]),\n",
              " 't.5.0.weight': torch.Size([8, 3]),\n",
              " 't.5.0.bias': torch.Size([8]),\n",
              " 't.5.2.weight': torch.Size([8, 8]),\n",
              " 't.5.2.bias': torch.Size([8]),\n",
              " 't.5.4.weight': torch.Size([3, 8]),\n",
              " 't.5.4.bias': torch.Size([3]),\n",
              " 't.6.0.weight': torch.Size([8, 3]),\n",
              " 't.6.0.bias': torch.Size([8]),\n",
              " 't.6.2.weight': torch.Size([8, 8]),\n",
              " 't.6.2.bias': torch.Size([8]),\n",
              " 't.6.4.weight': torch.Size([3, 8]),\n",
              " 't.6.4.bias': torch.Size([3]),\n",
              " 't.7.0.weight': torch.Size([8, 3]),\n",
              " 't.7.0.bias': torch.Size([8]),\n",
              " 't.7.2.weight': torch.Size([8, 8]),\n",
              " 't.7.2.bias': torch.Size([8]),\n",
              " 't.7.4.weight': torch.Size([3, 8]),\n",
              " 't.7.4.bias': torch.Size([3]),\n",
              " 't.8.0.weight': torch.Size([8, 3]),\n",
              " 't.8.0.bias': torch.Size([8]),\n",
              " 't.8.2.weight': torch.Size([8, 8]),\n",
              " 't.8.2.bias': torch.Size([8]),\n",
              " 't.8.4.weight': torch.Size([3, 8]),\n",
              " 't.8.4.bias': torch.Size([3]),\n",
              " 't.9.0.weight': torch.Size([8, 3]),\n",
              " 't.9.0.bias': torch.Size([8]),\n",
              " 't.9.2.weight': torch.Size([8, 8]),\n",
              " 't.9.2.bias': torch.Size([8]),\n",
              " 't.9.4.weight': torch.Size([3, 8]),\n",
              " 't.9.4.bias': torch.Size([3]),\n",
              " 't.10.0.weight': torch.Size([8, 3]),\n",
              " 't.10.0.bias': torch.Size([8]),\n",
              " 't.10.2.weight': torch.Size([8, 8]),\n",
              " 't.10.2.bias': torch.Size([8]),\n",
              " 't.10.4.weight': torch.Size([3, 8]),\n",
              " 't.10.4.bias': torch.Size([3]),\n",
              " 't.11.0.weight': torch.Size([8, 3]),\n",
              " 't.11.0.bias': torch.Size([8]),\n",
              " 't.11.2.weight': torch.Size([8, 8]),\n",
              " 't.11.2.bias': torch.Size([8]),\n",
              " 't.11.4.weight': torch.Size([3, 8]),\n",
              " 't.11.4.bias': torch.Size([3]),\n",
              " 't.12.0.weight': torch.Size([8, 3]),\n",
              " 't.12.0.bias': torch.Size([8]),\n",
              " 't.12.2.weight': torch.Size([8, 8]),\n",
              " 't.12.2.bias': torch.Size([8]),\n",
              " 't.12.4.weight': torch.Size([3, 8]),\n",
              " 't.12.4.bias': torch.Size([3]),\n",
              " 't.13.0.weight': torch.Size([8, 3]),\n",
              " 't.13.0.bias': torch.Size([8]),\n",
              " 't.13.2.weight': torch.Size([8, 8]),\n",
              " 't.13.2.bias': torch.Size([8]),\n",
              " 't.13.4.weight': torch.Size([3, 8]),\n",
              " 't.13.4.bias': torch.Size([3]),\n",
              " 't.14.0.weight': torch.Size([8, 3]),\n",
              " 't.14.0.bias': torch.Size([8]),\n",
              " 't.14.2.weight': torch.Size([8, 8]),\n",
              " 't.14.2.bias': torch.Size([8]),\n",
              " 't.14.4.weight': torch.Size([3, 8]),\n",
              " 't.14.4.bias': torch.Size([3]),\n",
              " 't.15.0.weight': torch.Size([8, 3]),\n",
              " 't.15.0.bias': torch.Size([8]),\n",
              " 't.15.2.weight': torch.Size([8, 8]),\n",
              " 't.15.2.bias': torch.Size([8]),\n",
              " 't.15.4.weight': torch.Size([3, 8]),\n",
              " 't.15.4.bias': torch.Size([3]),\n",
              " 's.0.0.weight': torch.Size([8, 3]),\n",
              " 's.0.0.bias': torch.Size([8]),\n",
              " 's.0.2.weight': torch.Size([8, 8]),\n",
              " 's.0.2.bias': torch.Size([8]),\n",
              " 's.0.4.weight': torch.Size([3, 8]),\n",
              " 's.0.4.bias': torch.Size([3]),\n",
              " 's.1.0.weight': torch.Size([8, 3]),\n",
              " 's.1.0.bias': torch.Size([8]),\n",
              " 's.1.2.weight': torch.Size([8, 8]),\n",
              " 's.1.2.bias': torch.Size([8]),\n",
              " 's.1.4.weight': torch.Size([3, 8]),\n",
              " 's.1.4.bias': torch.Size([3]),\n",
              " 's.2.0.weight': torch.Size([8, 3]),\n",
              " 's.2.0.bias': torch.Size([8]),\n",
              " 's.2.2.weight': torch.Size([8, 8]),\n",
              " 's.2.2.bias': torch.Size([8]),\n",
              " 's.2.4.weight': torch.Size([3, 8]),\n",
              " 's.2.4.bias': torch.Size([3]),\n",
              " 's.3.0.weight': torch.Size([8, 3]),\n",
              " 's.3.0.bias': torch.Size([8]),\n",
              " 's.3.2.weight': torch.Size([8, 8]),\n",
              " 's.3.2.bias': torch.Size([8]),\n",
              " 's.3.4.weight': torch.Size([3, 8]),\n",
              " 's.3.4.bias': torch.Size([3]),\n",
              " 's.4.0.weight': torch.Size([8, 3]),\n",
              " 's.4.0.bias': torch.Size([8]),\n",
              " 's.4.2.weight': torch.Size([8, 8]),\n",
              " 's.4.2.bias': torch.Size([8]),\n",
              " 's.4.4.weight': torch.Size([3, 8]),\n",
              " 's.4.4.bias': torch.Size([3]),\n",
              " 's.5.0.weight': torch.Size([8, 3]),\n",
              " 's.5.0.bias': torch.Size([8]),\n",
              " 's.5.2.weight': torch.Size([8, 8]),\n",
              " 's.5.2.bias': torch.Size([8]),\n",
              " 's.5.4.weight': torch.Size([3, 8]),\n",
              " 's.5.4.bias': torch.Size([3]),\n",
              " 's.6.0.weight': torch.Size([8, 3]),\n",
              " 's.6.0.bias': torch.Size([8]),\n",
              " 's.6.2.weight': torch.Size([8, 8]),\n",
              " 's.6.2.bias': torch.Size([8]),\n",
              " 's.6.4.weight': torch.Size([3, 8]),\n",
              " 's.6.4.bias': torch.Size([3]),\n",
              " 's.7.0.weight': torch.Size([8, 3]),\n",
              " 's.7.0.bias': torch.Size([8]),\n",
              " 's.7.2.weight': torch.Size([8, 8]),\n",
              " 's.7.2.bias': torch.Size([8]),\n",
              " 's.7.4.weight': torch.Size([3, 8]),\n",
              " 's.7.4.bias': torch.Size([3]),\n",
              " 's.8.0.weight': torch.Size([8, 3]),\n",
              " 's.8.0.bias': torch.Size([8]),\n",
              " 's.8.2.weight': torch.Size([8, 8]),\n",
              " 's.8.2.bias': torch.Size([8]),\n",
              " 's.8.4.weight': torch.Size([3, 8]),\n",
              " 's.8.4.bias': torch.Size([3]),\n",
              " 's.9.0.weight': torch.Size([8, 3]),\n",
              " 's.9.0.bias': torch.Size([8]),\n",
              " 's.9.2.weight': torch.Size([8, 8]),\n",
              " 's.9.2.bias': torch.Size([8]),\n",
              " 's.9.4.weight': torch.Size([3, 8]),\n",
              " 's.9.4.bias': torch.Size([3]),\n",
              " 's.10.0.weight': torch.Size([8, 3]),\n",
              " 's.10.0.bias': torch.Size([8]),\n",
              " 's.10.2.weight': torch.Size([8, 8]),\n",
              " 's.10.2.bias': torch.Size([8]),\n",
              " 's.10.4.weight': torch.Size([3, 8]),\n",
              " 's.10.4.bias': torch.Size([3]),\n",
              " 's.11.0.weight': torch.Size([8, 3]),\n",
              " 's.11.0.bias': torch.Size([8]),\n",
              " 's.11.2.weight': torch.Size([8, 8]),\n",
              " 's.11.2.bias': torch.Size([8]),\n",
              " 's.11.4.weight': torch.Size([3, 8]),\n",
              " 's.11.4.bias': torch.Size([3]),\n",
              " 's.12.0.weight': torch.Size([8, 3]),\n",
              " 's.12.0.bias': torch.Size([8]),\n",
              " 's.12.2.weight': torch.Size([8, 8]),\n",
              " 's.12.2.bias': torch.Size([8]),\n",
              " 's.12.4.weight': torch.Size([3, 8]),\n",
              " 's.12.4.bias': torch.Size([3]),\n",
              " 's.13.0.weight': torch.Size([8, 3]),\n",
              " 's.13.0.bias': torch.Size([8]),\n",
              " 's.13.2.weight': torch.Size([8, 8]),\n",
              " 's.13.2.bias': torch.Size([8]),\n",
              " 's.13.4.weight': torch.Size([3, 8]),\n",
              " 's.13.4.bias': torch.Size([3]),\n",
              " 's.14.0.weight': torch.Size([8, 3]),\n",
              " 's.14.0.bias': torch.Size([8]),\n",
              " 's.14.2.weight': torch.Size([8, 8]),\n",
              " 's.14.2.bias': torch.Size([8]),\n",
              " 's.14.4.weight': torch.Size([3, 8]),\n",
              " 's.14.4.bias': torch.Size([3]),\n",
              " 's.15.0.weight': torch.Size([8, 3]),\n",
              " 's.15.0.bias': torch.Size([8]),\n",
              " 's.15.2.weight': torch.Size([8, 8]),\n",
              " 's.15.2.bias': torch.Size([8]),\n",
              " 's.15.4.weight': torch.Size([3, 8]),\n",
              " 's.15.4.bias': torch.Size([3])}"
            ]
          },
          "execution_count": 31,
          "metadata": {},
          "output_type": "execute_result"
        }
      ],
      "source": [
        "# Preview variational parameters:\n",
        "{n: p.shape for n, p in variational_params.items()}"
      ]
    },
    {
      "cell_type": "markdown",
      "metadata": {},
      "source": [
        "## Preview before optimization"
      ]
    },
    {
      "cell_type": "code",
      "execution_count": 32,
      "metadata": {},
      "outputs": [
        {
          "data": {
            "text/plain": [
              "(torch.Size([10240, 6]), torch.Size([10240]))"
            ]
          },
          "execution_count": 32,
          "metadata": {},
          "output_type": "execute_result"
        }
      ],
      "source": [
        "samples, nlls = sampler(n_samples=10240)\n",
        "samples.shape, nlls.shape"
      ]
    },
    {
      "cell_type": "code",
      "execution_count": 33,
      "metadata": {},
      "outputs": [
        {
          "data": {
            "text/plain": [
              "(tensor([-1.5947,  0.1214,  0.4272, -0.5988, -0.5400,  0.3610],\n",
              "        grad_fn=<MeanBackward1>),\n",
              " tensor([1.8522, 1.2888, 1.8380, 0.2075, 7.6668, 4.4731],\n",
              "        grad_fn=<PowBackward0>),\n",
              " tensor([[ 1.8500,  0.0500, -0.0400, -0.0100, -0.4600, -0.0800],\n",
              "         [ 0.0500,  1.2900,  0.0500,  0.0200, -0.5400,  0.1900],\n",
              "         [-0.0400,  0.0500,  1.8400,  0.0200,  0.1100,  0.2600],\n",
              "         [-0.0100,  0.0200,  0.0200,  0.2100, -0.0000,  0.0500],\n",
              "         [-0.4600, -0.5400,  0.1100, -0.0000,  7.6700,  0.2600],\n",
              "         [-0.0800,  0.1900,  0.2600,  0.0500,  0.2600,  4.4700]],\n",
              "        grad_fn=<RoundBackward1>))"
            ]
          },
          "execution_count": 33,
          "metadata": {},
          "output_type": "execute_result"
        }
      ],
      "source": [
        "# Means, variances, covariance matrix:\n",
        "samples.mean(0), samples.std(0)**2, torch.cov(samples.T).round(decimals=2)"
      ]
    },
    {
      "cell_type": "code",
      "execution_count": 34,
      "metadata": {},
      "outputs": [
        {
          "data": {
            "image/png": "[encoded data removed]",
            "text/plain": [
              "<Figure size 360x360 with 1 Axes>"
            ]
          },
          "metadata": {
            "needs_background": "light"
          },
          "output_type": "display_data"
        }
      ],
      "source": [
        "plt.hist(samples[:,0].cpu().detach().numpy(), bins=30);\n",
        "plt.title(\"Dim=0 marginal distribution\");"
      ]
    },
    {
      "cell_type": "markdown",
      "metadata": {
        "id": "HdEt2uU1g4qM"
      },
      "source": [
        "## Optimize"
      ]
    },
    {
      "cell_type": "code",
      "execution_count": 35,
      "metadata": {
        "id": "Gc6q2sg2JYeg"
      },
      "outputs": [
        {
          "name": "stdout",
          "output_type": "stream",
          "text": [
            "epoch=0: loss= 13.78\n",
            "epoch=10: loss= 12.43\n",
            "epoch=20: loss= 10.92\n",
            "epoch=30: loss= 9.39\n",
            "epoch=40: loss= 7.77\n",
            "epoch=50: loss= 7.11\n",
            "epoch=60: loss= 6.16\n",
            "epoch=70: loss= 5.27\n",
            "epoch=80: loss= 5.23\n",
            "epoch=90: loss= 5.10\n",
            "epoch=500: loss= 1.90\n",
            "epoch=1000: loss= 0.86\n",
            "epoch=1500: loss= 0.52\n",
            "epoch=2000: loss= 0.41\n",
            "epoch=2500: loss= 0.36\n",
            "epoch=3000: loss= 0.39\n",
            "epoch=3500: loss= 0.31\n",
            "epoch=4000: loss= 0.21\n",
            "epoch=4500: loss= 0.28\n"
          ]
        }
      ],
      "source": [
        "optimized_parameters = variational_params.values()\n",
        "optimizer = torch.optim.Adam(optimized_parameters, lr=0.001) \n",
        "n_epochs = 5000\n",
        "n_posterior_samples = 1\n",
        "\n",
        "for e in range(n_epochs):\n",
        "    optimizer.zero_grad()\n",
        "\n",
        "    samples, q_nlls = sampler(n_samples=n_posterior_samples)\n",
        "    p_nlls = calc_p_nll(samples)\n",
        "    KLD = p_nlls-q_nlls\n",
        "\n",
        "    loss_vi = KLD.mean()\n",
        "    loss_vi.backward()\n",
        "    optimizer.step()\n",
        "\n",
        "    if (e<100 and e%10==0) or e%500==0:\n",
        "        samples, q_nlls = sampler(n_samples=10240)  # let use  more samples to estimate reported KLD\n",
        "        p_nlls = calc_p_nll(samples)\n",
        "        KLD = p_nlls-q_nlls\n",
        "\n",
        "        print(f\"epoch={e}: loss={KLD.mean(): .2f}\")"
      ]
    },
    {
      "cell_type": "markdown",
      "metadata": {},
      "source": [
        "## Preview after optimization"
      ]
    },
    {
      "cell_type": "code",
      "execution_count": 36,
      "metadata": {
        "id": "um_HOFQK-lEz"
      },
      "outputs": [
        {
          "data": {
            "text/plain": [
              "(tensor([15.0908,  9.0118,  8.4630,  6.1885,  4.4680,  2.7966],\n",
              "        grad_fn=<MeanBackward1>),\n",
              " tensor([450.3158, 346.1013, 331.7757, 394.6595, 355.8696, 443.4500],\n",
              "        grad_fn=<PowBackward0>),\n",
              " tensor([[450.,  33.,  37.,   2.,  42.,  21.],\n",
              "         [ 33., 346.,  67.,  -3.,  32.,  50.],\n",
              "         [ 37.,  67., 332.,  53.,  22., 108.],\n",
              "         [  2.,  -3.,  53., 395.,  71., -79.],\n",
              "         [ 42.,  32.,  22.,  71., 356.,  86.],\n",
              "         [ 21.,  50., 108., -79.,  86., 443.]], grad_fn=<RoundBackward1>))"
            ]
          },
          "execution_count": 36,
          "metadata": {},
          "output_type": "execute_result"
        }
      ],
      "source": [
        "samples, nlls = sampler(n_samples=102400)\n",
        "\n",
        "# Means, variances, covariance matrix:\n",
        "samples.mean(0), samples.std(0)**2, torch.cov(samples.T).round(decimals=0)"
      ]
    },
    {
      "cell_type": "code",
      "execution_count": 37,
      "metadata": {},
      "outputs": [
        {
          "data": {
            "text/plain": [
              "(tensor([12., 10.,  8.,  6.,  4.,  2.]),\n",
              " tensor([[ 300.,    0.,    0.,    0.,    0.,    0.],\n",
              "         [   0.,  309.,   18.,  -27.,   36.,   45.],\n",
              "         [   0.,   18.,  336.,   54.,   72.,   90.],\n",
              "         [   0.,  -27.,   54.,  381.,  108., -135.],\n",
              "         [   0.,   36.,   72.,  108.,  444.,  180.],\n",
              "         [   0.,   45.,   90., -135.,  180.,  525.]]))"
            ]
          },
          "execution_count": 37,
          "metadata": {},
          "output_type": "execute_result"
        }
      ],
      "source": [
        "# target:\n",
        "loc, cov "
      ]
    },
    {
      "cell_type": "code",
      "execution_count": 38,
      "metadata": {},
      "outputs": [
        {
          "data": {
            "image/png": "[encoded data removed]",
            "text/plain": [
              "<Figure size 360x360 with 1 Axes>"
            ]
          },
          "metadata": {
            "needs_background": "light"
          },
          "output_type": "display_data"
        }
      ],
      "source": [
        "samples, nlls = sampler(n_samples=10240)\n",
        "plt.hist(samples[:, 0].cpu().detach().numpy(), bins=30);\n",
        "plt.title(\"Dim=0 marginal distribution\");"
      ]
    }
  ],
  "metadata": {
    "accelerator": "GPU",
    "colab": {
      "collapsed_sections": [
        "-C2DLYqynn54"
      ],
      "provenance": []
    },
    "gpuClass": "standard",
    "kernelspec": {
      "display_name": "Python 3.8.5 ('base')",
      "language": "python",
      "name": "python3"
    },
    "language_info": {
      "codemirror_mode": {
        "name": "ipython",
        "version": 3
      },
      "file_extension": ".py",
      "mimetype": "text/x-python",
      "name": "python",
      "nbconvert_exporter": "python",
      "pygments_lexer": "ipython3",
      "version": "3.8.5"
    },
    "vscode": {
      "interpreter": {
        "hash": "72dff520818572b45c401a256658ee25fa99b55260abeb0336ef1b1e43b37267"
      }
    }
  },
  "nbformat": 4,
  "nbformat_minor": 0
}
