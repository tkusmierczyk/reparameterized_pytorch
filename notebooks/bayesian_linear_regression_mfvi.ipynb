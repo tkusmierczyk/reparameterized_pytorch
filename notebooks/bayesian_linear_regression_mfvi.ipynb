{
  "cells": [
    {
      "cell_type": "markdown",
      "metadata": {
        "id": "GJcMJWZDBy2h"
      },
      "source": [
        "# Bayesian Linear Regression fit using MFVI vs closed-form solution"
      ]
    },
    {
      "cell_type": "code",
      "execution_count": 1,
      "metadata": {
        "colab": {
          "base_uri": "https://localhost:8080/"
        },
        "id": "uJd1yRdoJgA7",
        "outputId": "ac8f8121-db81-47a0-f47e-eb001f0b38c8"
      },
      "outputs": [
        {
          "name": "stdout",
          "output_type": "stream",
          "text": [
            "Requirement already satisfied: torch in /home/tomasz/anaconda3/lib/python3.8/site-packages (1.13.0)\n",
            "Requirement already satisfied: nvidia-cuda-runtime-cu11==11.7.99 in /home/tomasz/anaconda3/lib/python3.8/site-packages (from torch) (11.7.99)\n",
            "Requirement already satisfied: nvidia-cuda-nvrtc-cu11==11.7.99 in /home/tomasz/anaconda3/lib/python3.8/site-packages (from torch) (11.7.99)\n",
            "Requirement already satisfied: typing-extensions in /home/tomasz/anaconda3/lib/python3.8/site-packages (from torch) (4.4.0)\n",
            "Requirement already satisfied: nvidia-cublas-cu11==11.10.3.66 in /home/tomasz/anaconda3/lib/python3.8/site-packages (from torch) (11.10.3.66)\n",
            "Requirement already satisfied: nvidia-cudnn-cu11==8.5.0.96 in /home/tomasz/anaconda3/lib/python3.8/site-packages (from torch) (8.5.0.96)\n",
            "Requirement already satisfied: wheel in /home/tomasz/anaconda3/lib/python3.8/site-packages (from nvidia-cuda-runtime-cu11==11.7.99->torch) (0.35.1)\n",
            "Requirement already satisfied: setuptools in /home/tomasz/anaconda3/lib/python3.8/site-packages (from nvidia-cuda-runtime-cu11==11.7.99->torch) (50.3.1.post20201107)\n",
            "Note: you may need to restart the kernel to use updated packages.\n"
          ]
        }
      ],
      "source": [
        "%pip install torch"
      ]
    },
    {
      "cell_type": "code",
      "execution_count": 2,
      "metadata": {
        "id": "PkWZ_bKBJYeT"
      },
      "outputs": [],
      "source": [
        "import numpy as np\n",
        "\n",
        "import torch\n",
        "from torch.nn.functional import softplus"
      ]
    },
    {
      "cell_type": "code",
      "execution_count": 3,
      "metadata": {},
      "outputs": [],
      "source": [
        "import sys\n",
        "sys.path.append(\"../\")"
      ]
    },
    {
      "cell_type": "code",
      "execution_count": 4,
      "metadata": {},
      "outputs": [],
      "source": [
        "import reparametrized as r\n",
        "from reparametrized import sampling\n",
        "from reparametrized import likelihoods\n",
        "from reparametrized import densities"
      ]
    },
    {
      "cell_type": "code",
      "execution_count": 5,
      "metadata": {
        "id": "JVdgdm7Cd5UI"
      },
      "outputs": [],
      "source": [
        "from matplotlib import pyplot as plt\n",
        "plt.rcParams['figure.figsize'] = (5, 5) # Width and height"
      ]
    },
    {
      "cell_type": "code",
      "execution_count": 6,
      "metadata": {
        "colab": {
          "base_uri": "https://localhost:8080/"
        },
        "id": "uiEnOgwGJaEn",
        "outputId": "c8936bc9-58b4-4ecf-fcea-88d08592c3c4"
      },
      "outputs": [
        {
          "name": "stdout",
          "output_type": "stream",
          "text": [
            "Using CPU\n"
          ]
        }
      ],
      "source": [
        "if torch.cuda.is_available():\n",
        "    torch.set_default_tensor_type('torch.cuda.FloatTensor')\n",
        "    env = torch.cuda\n",
        "    print(\"Using GPU\")\n",
        "else:\n",
        "    torch.set_default_tensor_type('torch.FloatTensor')\n",
        "    env = torch\n",
        "    print(\"Using CPU\")"
      ]
    },
    {
      "cell_type": "markdown",
      "metadata": {
        "id": "kTKZ15jMg0nN"
      },
      "source": [
        "## Data"
      ]
    },
    {
      "cell_type": "code",
      "execution_count": 7,
      "metadata": {},
      "outputs": [],
      "source": [
        "SEED = 123\n",
        "\n",
        "torch.manual_seed(SEED)\n",
        "np.random.seed(SEED)"
      ]
    },
    {
      "cell_type": "code",
      "execution_count": 8,
      "metadata": {
        "id": "18IvegmjJYea"
      },
      "outputs": [],
      "source": [
        "def generate_toy_data(N):\n",
        "    x_data = np.float32(np.random.uniform(-10.5, 10.5, (1, N))).T\n",
        "    r_data = np.float32(np.random.normal(size=(N,1)))\n",
        "    y_data = np.float32(np.sin(0.75*x_data)*7.0+x_data*0.5+r_data*2.0)+10\n",
        "    \n",
        "    mask = (x_data<0.0) | (x_data>5.0)\n",
        "    r_data = r_data[mask]\n",
        "    y_data = y_data[mask, None]\n",
        "    x_data = x_data[mask, None]\n",
        "\n",
        "    return x_data, y_data, r_data\n",
        "\n",
        "\n",
        "x_data, y_data, r_data = generate_toy_data(100)"
      ]
    },
    {
      "cell_type": "code",
      "execution_count": 9,
      "metadata": {},
      "outputs": [
        {
          "data": {
            "image/png": "[encoded data removed]",
            "text/plain": [
              "<Figure size 360x360 with 1 Axes>"
            ]
          },
          "metadata": {
            "needs_background": "light"
          },
          "output_type": "display_data"
        }
      ],
      "source": [
        "plt.scatter(x_data, y_data, color=\"salmon\");"
      ]
    },
    {
      "cell_type": "code",
      "execution_count": 10,
      "metadata": {
        "colab": {
          "base_uri": "https://localhost:8080/",
          "height": 356
        },
        "id": "7pbiMR-uuQw0",
        "outputId": "23ab92bf-fc5f-4e78-ecd3-44c98cd8f6d2"
      },
      "outputs": [
        {
          "name": "stdout",
          "output_type": "stream",
          "text": [
            "x=torch.Size([64, 1]) y=torch.Size([64, 1])\n"
          ]
        }
      ],
      "source": [
        "x = torch.tensor(x_data, dtype = torch.float, requires_grad=False)\n",
        "y = torch.tensor(y_data, dtype = torch.float, requires_grad=False)\n",
        "\n",
        "print(\"x=%s y=%s\" % (x.shape, y.shape))"
      ]
    },
    {
      "cell_type": "markdown",
      "metadata": {
        "id": "HdEt2uU1g4qM"
      },
      "source": [
        "## Network"
      ]
    },
    {
      "cell_type": "code",
      "execution_count": 11,
      "metadata": {
        "id": "Gc6q2sg2JYeg"
      },
      "outputs": [],
      "source": [
        "INPUT_DIM = 1\n",
        "OUTPUT_DIM = 1\n",
        "\n",
        "# Linear regression model\n",
        "model = torch.nn.Sequential(\n",
        "    torch.nn.Linear(INPUT_DIM, OUTPUT_DIM),\n",
        "    )    \n",
        " \n",
        "\n",
        "assert torch.Size([INPUT_DIM])==x.shape[1:]\n",
        "assert torch.Size([OUTPUT_DIM])==y.shape[1:]"
      ]
    },
    {
      "cell_type": "markdown",
      "metadata": {
        "id": "gGVx0r32B9YK"
      },
      "source": [
        "List model parameters:"
      ]
    },
    {
      "cell_type": "code",
      "execution_count": 12,
      "metadata": {
        "colab": {
          "base_uri": "https://localhost:8080/"
        },
        "id": "6vkVkh6Bh5mv",
        "outputId": "d494d89d-b1f9-4a1e-938b-bace4397b8f1"
      },
      "outputs": [
        {
          "data": {
            "text/plain": [
              "dict_keys(['0.weight', '0.bias'])"
            ]
          },
          "execution_count": 12,
          "metadata": {},
          "output_type": "execute_result"
        }
      ],
      "source": [
        "dict(model.named_parameters()).keys()"
      ]
    },
    {
      "cell_type": "markdown",
      "metadata": {
        "id": "5yi11c7oV4x8"
      },
      "source": [
        "## Priors"
      ]
    },
    {
      "cell_type": "code",
      "execution_count": 13,
      "metadata": {
        "id": "LmPkkhP-ViwN"
      },
      "outputs": [],
      "source": [
        "parameters2nllfunc = {}\n",
        "for parameter_name, parameter_value in model.named_parameters():\n",
        "    parameters2nllfunc[parameter_name] = densities.create_gaussian_nll(parameter_value.shape)"
      ]
    },
    {
      "cell_type": "markdown",
      "metadata": {},
      "source": [
        "## Likelihood"
      ]
    },
    {
      "cell_type": "code",
      "execution_count": 14,
      "metadata": {},
      "outputs": [],
      "source": [
        "LIKELIHOOD_SIGMA = 2\n",
        "\n",
        "def predictive_distribution_sampler(logits, **kwargs): \n",
        "    return likelihoods.factorized_gaussian_with_fixed_scale_sample(logits, scale=LIKELIHOOD_SIGMA, **kwargs)\n",
        "\n",
        "def predictive_distribution_log_lik(logits, output_y, **kwargs): \n",
        "    return likelihoods.factorized_gaussian_with_fixed_scale_log_prob(logits, output_y, scale=LIKELIHOOD_SIGMA, **kwargs)"
      ]
    },
    {
      "cell_type": "markdown",
      "metadata": {
        "id": "9D7EgkWdruSn"
      },
      "source": [
        "## Create samplers for parameters"
      ]
    },
    {
      "cell_type": "markdown",
      "metadata": {
        "id": "J38TtATn0yWC"
      },
      "source": [
        "List of samplers and variational parameters to be optimized"
      ]
    },
    {
      "cell_type": "code",
      "execution_count": 15,
      "metadata": {
        "id": "Ji54HbaQtqni"
      },
      "outputs": [],
      "source": [
        "parameters2sampler = {}\n",
        "variational_params = []\n",
        "\n",
        "is_parameter_already_handled = lambda parameter_name: r.is_parameter_handled(parameters2sampler.items(), parameter_name)"
      ]
    },
    {
      "cell_type": "markdown",
      "metadata": {
        "id": "7jFY9QkY84uU"
      },
      "source": [
        "Register parameters to be modeled with factorized Gaussian"
      ]
    },
    {
      "cell_type": "code",
      "execution_count": 16,
      "metadata": {
        "colab": {
          "base_uri": "https://localhost:8080/"
        },
        "id": "EZQIqbzehuCA",
        "outputId": "97bd6cef-30f2-4c35-f14b-8770e2cd92e0"
      },
      "outputs": [
        {
          "name": "stdout",
          "output_type": "stream",
          "text": [
            "Learning 0.weight with factorized Gaussian\n",
            "Learning 0.bias with factorized Gaussian\n"
          ]
        }
      ],
      "source": [
        "loc_initalization = lambda parameter: torch.randn_like(parameter) #parameter.clone().detach(),\n",
        "uscale_initialization = lambda parameter: torch.randn_like(parameter)\n",
        "\n",
        "\n",
        "for n, p in model.named_parameters():\n",
        "    if not is_parameter_already_handled(n):\n",
        "        print(f\"Learning {n} with factorized Gaussian\")\n",
        "        sampler, variational_params1, aux_objs = sampling.create_factorized_gaussian_sampler(p, \n",
        "            loc_initalization=loc_initalization,\n",
        "            uscale_initialization=uscale_initialization,\n",
        "            )\n",
        "\n",
        "        parameters2sampler[n] = sampler\n",
        "        variational_params.extend((n+\":\"+vn, vp) for vn, vp in variational_params1.items())"
      ]
    },
    {
      "cell_type": "markdown",
      "metadata": {
        "id": "3_7JDyMt1R2W"
      },
      "source": [
        "# Preview sample"
      ]
    },
    {
      "cell_type": "code",
      "execution_count": 17,
      "metadata": {},
      "outputs": [
        {
          "name": "stdout",
          "output_type": "stream",
          "text": [
            "samplers:\n"
          ]
        },
        {
          "data": {
            "text/plain": [
              "{'0.weight': <function reparametrized.sampling.gaussian.create_factorized_gaussian_sampler.<locals>.sample_factorized_gaussian(n_samples=1)>,\n",
              " '0.bias': <function reparametrized.sampling.gaussian.create_factorized_gaussian_sampler.<locals>.sample_factorized_gaussian(n_samples=1)>}"
            ]
          },
          "metadata": {},
          "output_type": "display_data"
        }
      ],
      "source": [
        "print(\"samplers:\")\n",
        "display(parameters2sampler)"
      ]
    },
    {
      "cell_type": "code",
      "execution_count": 18,
      "metadata": {},
      "outputs": [
        {
          "name": "stdout",
          "output_type": "stream",
          "text": [
            "variational parameters:\n"
          ]
        },
        {
          "data": {
            "text/plain": [
              "[('0.weight:loc', torch.Size([1, 1])),\n",
              " ('0.weight:unnormalized_scale', torch.Size([1, 1])),\n",
              " ('0.bias:loc', torch.Size([1])),\n",
              " ('0.bias:unnormalized_scale', torch.Size([1]))]"
            ]
          },
          "metadata": {},
          "output_type": "display_data"
        }
      ],
      "source": [
        "print(\"variational parameters:\")\n",
        "display([(vn, vp.shape) for vn, vp in variational_params])"
      ]
    },
    {
      "cell_type": "code",
      "execution_count": 19,
      "metadata": {
        "id": "WVRjL_Vb3Cyc"
      },
      "outputs": [],
      "source": [
        "parameters_samples, nlls = r.sample_parameters(parameters2sampler.items(), 3)"
      ]
    },
    {
      "cell_type": "code",
      "execution_count": 20,
      "metadata": {
        "colab": {
          "base_uri": "https://localhost:8080/"
        },
        "id": "nAElvBuKsutz",
        "outputId": "9906dfbf-fb99-44eb-c0f1-bbeedda8266d"
      },
      "outputs": [
        {
          "name": "stdout",
          "output_type": "stream",
          "text": [
            "parameters' sample:\n"
          ]
        },
        {
          "data": {
            "text/plain": [
              "{'0.weight': torch.Size([3, 1, 1]), '0.bias': torch.Size([3, 1])}"
            ]
          },
          "execution_count": 20,
          "metadata": {},
          "output_type": "execute_result"
        }
      ],
      "source": [
        "print(\"parameters' sample:\")\n",
        "{n: s.shape for n, s in parameters_samples.items()}"
      ]
    },
    {
      "cell_type": "code",
      "execution_count": 21,
      "metadata": {
        "colab": {
          "base_uri": "https://localhost:8080/"
        },
        "id": "cBNkS9FM1V6g",
        "outputId": "a72458d3-c921-45db-fb8d-deea62b85f9f"
      },
      "outputs": [
        {
          "name": "stdout",
          "output_type": "stream",
          "text": [
            "parameters' NLLs:\n"
          ]
        },
        {
          "data": {
            "text/plain": [
              "{'0.weight': tensor([1.5438, 0.6501, 3.4862], grad_fn=<NegBackward0>),\n",
              " '0.bias': tensor([1.0825, 2.5185, 1.1836], grad_fn=<NegBackward0>)}"
            ]
          },
          "execution_count": 21,
          "metadata": {},
          "output_type": "execute_result"
        }
      ],
      "source": [
        "print(\"parameters' NLLs:\")\n",
        "nlls"
      ]
    },
    {
      "cell_type": "code",
      "execution_count": 22,
      "metadata": {
        "colab": {
          "base_uri": "https://localhost:8080/"
        },
        "id": "QkAbLF_UVB3s",
        "outputId": "a47fe134-088d-4be0-8104-e3a7fd4382ae"
      },
      "outputs": [
        {
          "data": {
            "text/plain": [
              "torch.Size([6, 64, 1])"
            ]
          },
          "execution_count": 22,
          "metadata": {},
          "output_type": "execute_result"
        }
      ],
      "source": [
        "r.sample_predictive(x, model, parameters_samples, predictive_distribution_sampler, n_samples=2, flatten_samples_dims=True).shape"
      ]
    },
    {
      "cell_type": "code",
      "execution_count": 23,
      "metadata": {
        "colab": {
          "base_uri": "https://localhost:8080/"
        },
        "id": "wMK1M-vcYxkv",
        "outputId": "291b25f9-3f8f-40a1-e040-edde416bbabf"
      },
      "outputs": [
        {
          "data": {
            "text/plain": [
              "torch.Size([3, 64])"
            ]
          },
          "execution_count": 23,
          "metadata": {},
          "output_type": "execute_result"
        }
      ],
      "source": [
        "r.predictive_likelihoods(x, y, model, parameters_samples, predictive_distribution_log_lik).shape"
      ]
    },
    {
      "cell_type": "markdown",
      "metadata": {
        "id": "WfXPH8s9fvK4"
      },
      "source": [
        "## Visualisation"
      ]
    },
    {
      "cell_type": "code",
      "execution_count": 24,
      "metadata": {
        "id": "WzpelbYIfcCh"
      },
      "outputs": [],
      "source": [
        "def plot_with_errortunnel(x, y, yerr, color=None, alpha_fill=0.2, ax=None, label=\"\", lw=1):\n",
        "    ax = ax if ax is not None else plt.gca()\n",
        "    if color is None:\n",
        "        color = ax._get_lines.color_cycle.next()\n",
        "    if np.isscalar(yerr) or len(yerr) == len(y):\n",
        "        ymin = y - yerr\n",
        "        ymax = y + yerr\n",
        "    elif len(yerr) == 2:\n",
        "        ymin, ymax = yerr\n",
        "    ax.plot(x, y, color=color, label=label, lw=lw)\n",
        "    ax.fill_between(x, ymax, ymin, color=color, alpha=alpha_fill, linewidth=0.0)\n",
        " \n",
        " \n",
        "def numpy(tensor):\n",
        "    return tensor.cpu().detach().numpy()\n",
        "\n",
        "\n",
        "def linspace1(x):\n",
        "    x2, x1 = numpy(x.flatten().max().cpu()), numpy(x.flatten().min().cpu())\n",
        "    rng = (x2-x1)*0.5\n",
        "    xs = np.arange(x1-rng, x2+rng, 0.5)\n",
        "    xs = torch.tensor([[v] for v in xs], dtype=torch.float32)            \n",
        "    return xs\n",
        "\n",
        "\n",
        "def plot_fit(x, y, xs, ys, plot_samples=True, plot_error=True):  \n",
        "    x, y, xs, ys = numpy(x), numpy(y), numpy(xs), numpy(ys)\n",
        "    plt.scatter(x.flatten(), y.flatten(), label=\"data\", color=\"salmon\")\n",
        "    \n",
        "    if plot_samples:\n",
        "        for y1 in ys:\n",
        "            plt.plot(xs.flatten(), y1.flatten(), lw=1)\n",
        "\n",
        "    ym, ys = ys.mean(0), ys.std(0)         \n",
        "    if plot_error:\n",
        "        plot_with_errortunnel(xs.flatten(), ym.flatten(), 2*ys.flatten(), color=\"dodgerblue\", label=\"BNN (m+/-2*s\", lw=2)\n",
        "    else:\n",
        "        plt.plot(xs.flatten(), ym.flatten(), color=\"dodgerblue\", label=\"BNN\", lw=2)\n",
        "        \n",
        "    plt.legend();"
      ]
    },
    {
      "cell_type": "markdown",
      "metadata": {
        "id": "VqLQg7NvguxA"
      },
      "source": [
        "## Learning"
      ]
    },
    {
      "cell_type": "code",
      "execution_count": 25,
      "metadata": {
        "colab": {
          "base_uri": "https://localhost:8080/",
          "height": 332
        },
        "id": "cD4dC0iFctTB",
        "outputId": "a246291e-f201-48ff-db00-0ea2c00ec530"
      },
      "outputs": [
        {
          "data": {
            "image/png": "[encoded data removed]",
            "text/plain": [
              "<Figure size 360x360 with 1 Axes>"
            ]
          },
          "metadata": {
            "needs_background": "light"
          },
          "output_type": "display_data"
        }
      ],
      "source": [
        "parameters_samples, nlls = r.sample_parameters(parameters2sampler.items(), 10)\n",
        "xs = linspace1(x)\n",
        "ys = r.sample_predictive(xs, model, parameters_samples, \n",
        "                        sampler=predictive_distribution_sampler, \n",
        "                        n_samples=1, \n",
        "                       )\n",
        "\n",
        "plot_fit(x, y, xs, ys)\n",
        "plt.title(\"before learning\")\n",
        "plt.show()"
      ]
    },
    {
      "cell_type": "code",
      "execution_count": 26,
      "metadata": {
        "colab": {
          "base_uri": "https://localhost:8080/"
        },
        "id": "HgRQ6dDMJYer",
        "outputId": "b88b19fd-06f6-41e0-9836-95702e68bd30"
      },
      "outputs": [
        {
          "name": "stdout",
          "output_type": "stream",
          "text": [
            "epoch=0: elbo = -1129.31 (= -1133.66 [+] -2.36 [-]  6.70)\n",
            "epoch=1: elbo = -710.74 (= -708.95 [+] -4.48 [-]  2.69)\n",
            "epoch=2: elbo = -1230.81 (= -1228.98 [+] -3.42 [-]  1.59)\n",
            "epoch=3: elbo = -1655.00 (= -1653.23 [+] -3.62 [-]  1.85)\n",
            "epoch=4: elbo = -1341.47 (= -1338.57 [+] -4.91 [-]  2.01)\n",
            "epoch=5: elbo = -1328.17 (= -1327.40 [+] -2.73 [-]  1.96)\n",
            "epoch=6: elbo = -828.05 (= -830.04 [+] -2.73 [-]  4.71)\n",
            "epoch=7: elbo = -1742.15 (= -1739.37 [+] -4.88 [-]  2.10)\n",
            "epoch=8: elbo = -623.39 (= -620.28 [+] -7.16 [-]  4.04)\n",
            "epoch=9: elbo = -886.78 (= -886.07 [+] -2.55 [-]  1.83)\n",
            "epoch=100: elbo = -682.47 (= -680.88 [+] -3.18 [-]  1.59)\n",
            "epoch=200: elbo = -614.40 (= -608.76 [+] -6.95 [-]  1.30)\n",
            "epoch=300: elbo = -626.96 (= -624.12 [+] -4.62 [-]  1.79)\n",
            "epoch=400: elbo = -548.95 (= -540.74 [+] -9.63 [-]  1.43)\n",
            "epoch=500: elbo = -465.73 (= -454.09 [+] -12.04 [-]  0.40)\n",
            "epoch=600: elbo = -411.13 (= -391.68 [+] -20.57 [-]  1.11)\n",
            "epoch=700: elbo = -415.22 (= -397.53 [+] -17.63 [-] -0.06)\n",
            "epoch=800: elbo = -396.72 (= -371.82 [+] -26.32 [-]  1.42)\n",
            "epoch=900: elbo = -436.97 (= -419.86 [+] -18.99 [-]  1.88)\n",
            "epoch=1000: elbo = -389.11 (= -358.64 [+] -32.01 [-]  1.55)\n",
            "epoch=1100: elbo = -382.98 (= -356.10 [+] -26.30 [-] -0.58)\n",
            "epoch=1200: elbo = -386.09 (= -362.09 [+] -24.22 [-]  0.22)\n",
            "epoch=1300: elbo = -375.16 (= -342.24 [+] -32.20 [-] -0.73)\n",
            "epoch=1400: elbo = -379.24 (= -351.30 [+] -27.61 [-] -0.33)\n",
            "epoch=1500: elbo = -375.78 (= -343.10 [+] -31.47 [-] -1.21)\n",
            "epoch=1600: elbo = -382.98 (= -349.57 [+] -33.25 [-] -0.15)\n",
            "epoch=1700: elbo = -375.57 (= -342.76 [+] -31.49 [-] -1.31)\n",
            "epoch=1800: elbo = -389.77 (= -359.70 [+] -31.08 [-]  1.00)\n",
            "epoch=1900: elbo = -380.76 (= -346.62 [+] -33.16 [-] -0.98)\n",
            "epoch=2000: elbo = -377.95 (= -342.22 [+] -34.61 [-] -1.12)\n",
            "epoch=2100: elbo = -379.96 (= -349.02 [+] -30.47 [-] -0.47)\n",
            "epoch=2200: elbo = -376.77 (= -339.86 [+] -36.38 [-] -0.53)\n",
            "epoch=2300: elbo = -380.92 (= -346.96 [+] -34.17 [-]  0.22)\n",
            "epoch=2400: elbo = -376.78 (= -343.96 [+] -31.32 [-] -1.50)\n",
            "epoch=2500: elbo = -376.72 (= -345.23 [+] -30.56 [-] -0.93)\n",
            "epoch=2600: elbo = -377.41 (= -344.55 [+] -31.56 [-] -1.29)\n",
            "epoch=2700: elbo = -376.82 (= -344.44 [+] -30.71 [-] -1.67)\n",
            "epoch=2800: elbo = -376.61 (= -344.45 [+] -30.95 [-] -1.20)\n",
            "epoch=2900: elbo = -376.22 (= -345.55 [+] -29.63 [-] -1.04)\n",
            "epoch=3000: elbo = -376.57 (= -343.23 [+] -31.34 [-] -2.00)\n",
            "epoch=3100: elbo = -377.42 (= -340.75 [+] -36.34 [-] -0.32)\n",
            "epoch=3200: elbo = -376.75 (= -341.82 [+] -33.40 [-] -1.53)\n",
            "epoch=3300: elbo = -378.74 (= -346.41 [+] -31.35 [-] -0.98)\n",
            "epoch=3400: elbo = -377.60 (= -342.86 [+] -33.48 [-] -1.26)\n",
            "epoch=3500: elbo = -376.34 (= -340.84 [+] -33.17 [-] -2.34)\n",
            "epoch=3600: elbo = -377.98 (= -344.28 [+] -33.17 [-] -0.54)\n",
            "epoch=3700: elbo = -376.35 (= -342.59 [+] -31.68 [-] -2.09)\n",
            "epoch=3800: elbo = -376.55 (= -341.26 [+] -32.82 [-] -2.46)\n",
            "epoch=3900: elbo = -376.77 (= -344.74 [+] -30.35 [-] -1.68)\n",
            "epoch=4000: elbo = -377.00 (= -343.45 [+] -31.33 [-] -2.22)\n",
            "epoch=4100: elbo = -376.82 (= -341.35 [+] -32.98 [-] -2.49)\n",
            "epoch=4200: elbo = -376.60 (= -340.18 [+] -35.06 [-] -1.36)\n",
            "epoch=4300: elbo = -378.51 (= -342.05 [+] -36.50 [-]  0.04)\n",
            "epoch=4400: elbo = -378.37 (= -344.23 [+] -33.81 [-] -0.32)\n",
            "epoch=4500: elbo = -377.40 (= -344.20 [+] -33.35 [-]  0.14)\n",
            "epoch=4600: elbo = -376.88 (= -344.91 [+] -30.09 [-] -1.88)\n",
            "epoch=4700: elbo = -376.61 (= -342.91 [+] -31.30 [-] -2.40)\n",
            "epoch=4800: elbo = -376.94 (= -342.12 [+] -32.84 [-] -1.98)\n",
            "epoch=4900: elbo = -377.46 (= -344.48 [+] -30.98 [-] -2.00)\n",
            "epoch=5000: elbo = -376.11 (= -344.42 [+] -30.54 [-] -1.16)\n",
            "epoch=5100: elbo = -376.48 (= -340.07 [+] -34.13 [-] -2.27)\n",
            "epoch=5200: elbo = -377.42 (= -344.63 [+] -30.79 [-] -2.00)\n",
            "epoch=5300: elbo = -376.19 (= -342.90 [+] -31.35 [-] -1.95)\n",
            "epoch=5400: elbo = -376.32 (= -341.69 [+] -32.25 [-] -2.38)\n",
            "epoch=5500: elbo = -376.67 (= -340.37 [+] -33.74 [-] -2.55)\n",
            "epoch=5600: elbo = -377.10 (= -341.13 [+] -33.44 [-] -2.53)\n",
            "epoch=5700: elbo = -376.60 (= -342.17 [+] -31.85 [-] -2.59)\n",
            "epoch=5800: elbo = -376.97 (= -343.88 [+] -33.14 [-]  0.05)\n",
            "epoch=5900: elbo = -376.60 (= -339.91 [+] -34.41 [-] -2.28)\n",
            "epoch=6000: elbo = -377.49 (= -343.79 [+] -34.29 [-]  0.59)\n",
            "epoch=6100: elbo = -375.71 (= -340.99 [+] -34.02 [-] -0.69)\n",
            "epoch=6200: elbo = -376.66 (= -341.46 [+] -32.47 [-] -2.74)\n",
            "epoch=6300: elbo = -376.01 (= -341.47 [+] -34.71 [-]  0.17)\n",
            "epoch=6400: elbo = -376.65 (= -339.46 [+] -35.72 [-] -1.47)\n",
            "epoch=6500: elbo = -375.61 (= -340.78 [+] -34.12 [-] -0.71)\n",
            "epoch=6600: elbo = -376.99 (= -346.30 [+] -29.37 [-] -1.32)\n",
            "epoch=6700: elbo = -376.73 (= -340.81 [+] -33.16 [-] -2.76)\n",
            "epoch=6800: elbo = -377.57 (= -340.38 [+] -38.24 [-]  1.05)\n",
            "epoch=6900: elbo = -376.49 (= -339.42 [+] -35.55 [-] -1.52)\n",
            "epoch=7000: elbo = -376.65 (= -342.50 [+] -32.02 [-] -2.13)\n",
            "epoch=7100: elbo = -376.73 (= -341.36 [+] -32.57 [-] -2.81)\n",
            "epoch=7200: elbo = -376.60 (= -342.03 [+] -32.04 [-] -2.52)\n",
            "epoch=7300: elbo = -377.08 (= -341.39 [+] -33.09 [-] -2.61)\n",
            "epoch=7400: elbo = -376.35 (= -341.03 [+] -32.97 [-] -2.36)\n",
            "epoch=7500: elbo = -376.69 (= -340.26 [+] -33.89 [-] -2.55)\n",
            "epoch=7600: elbo = -376.27 (= -343.61 [+] -31.14 [-] -1.52)\n",
            "epoch=7700: elbo = -376.92 (= -339.95 [+] -36.21 [-] -0.75)\n",
            "epoch=7800: elbo = -376.79 (= -347.55 [+] -28.91 [-] -0.33)\n",
            "epoch=7900: elbo = -376.74 (= -344.33 [+] -30.88 [-] -1.53)\n",
            "epoch=8000: elbo = -376.71 (= -340.81 [+] -33.20 [-] -2.69)\n",
            "epoch=8100: elbo = -376.69 (= -340.16 [+] -34.01 [-] -2.52)\n",
            "epoch=8200: elbo = -376.49 (= -341.30 [+] -32.82 [-] -2.38)\n",
            "epoch=8300: elbo = -376.36 (= -340.99 [+] -33.37 [-] -2.00)\n",
            "epoch=8400: elbo = -376.65 (= -341.65 [+] -32.37 [-] -2.63)\n",
            "epoch=8500: elbo = -377.16 (= -344.70 [+] -30.57 [-] -1.89)\n",
            "epoch=8600: elbo = -376.69 (= -340.58 [+] -33.41 [-] -2.70)\n",
            "epoch=8700: elbo = -376.66 (= -343.40 [+] -31.35 [-] -1.92)\n",
            "epoch=8800: elbo = -376.96 (= -342.78 [+] -33.30 [-] -0.89)\n",
            "epoch=8900: elbo = -376.83 (= -342.03 [+] -32.20 [-] -2.59)\n",
            "epoch=9000: elbo = -375.65 (= -339.95 [+] -34.42 [-] -1.28)\n",
            "epoch=9100: elbo = -376.78 (= -342.46 [+] -31.65 [-] -2.67)\n",
            "epoch=9200: elbo = -375.62 (= -344.47 [+] -30.27 [-] -0.88)\n",
            "epoch=9300: elbo = -376.66 (= -342.38 [+] -31.67 [-] -2.62)\n",
            "epoch=9400: elbo = -376.64 (= -344.11 [+] -30.52 [-] -2.00)\n",
            "epoch=9500: elbo = -376.43 (= -350.29 [+] -27.57 [-]  1.43)\n",
            "epoch=9600: elbo = -376.74 (= -343.47 [+] -30.87 [-] -2.40)\n",
            "epoch=9700: elbo = -376.85 (= -342.61 [+] -31.89 [-] -2.35)\n",
            "epoch=9800: elbo = -376.34 (= -342.05 [+] -32.13 [-] -2.16)\n",
            "epoch=9900: elbo = -376.21 (= -345.04 [+] -29.96 [-] -1.20)\n"
          ]
        }
      ],
      "source": [
        "optimized_parameters = [vp for _, vp in variational_params]\n",
        "optimizer = torch.optim.Adam(optimized_parameters, lr=0.01) \n",
        "\n",
        "n_posterior_samples = 1\n",
        "n_epochs = 10000\n",
        "\n",
        "for e in range(n_epochs):\n",
        "    optimizer.zero_grad()\n",
        "\n",
        "    # sampling from approximate posterior\n",
        "    parameters_samples, posterior_nlls = r.sample_parameters(parameters2sampler, n_samples=n_posterior_samples)\n",
        "    posterior_nlls = torch.stack(list(posterior_nlls.values()))  # out shape: n_param_groups x n_posterior_samples\n",
        "    log_q = -posterior_nlls.sum(0)\n",
        "\n",
        "    # priors\n",
        "    prior_nlls = r.estimate_parameters_nll(parameters2nllfunc, parameters_samples)\n",
        "    prior_nlls = torch.stack(list(prior_nlls.values()))  # out shape: n_param_groups x n_posterior_samples\n",
        "    log_p = -prior_nlls.sum(0)\n",
        "\n",
        "    # estimating likelihoods of observed y\n",
        "    logliks = r.predictive_likelihoods(x, y, model, parameters_samples, predictive_distribution_log_lik)\n",
        "    assert logliks.shape==torch.Size([n_posterior_samples, len(y)])\n",
        "    logliks = logliks.sum(1) # sum over data points\n",
        "    \n",
        "    elbo = logliks+log_p-log_q\n",
        "    elbo = elbo.mean()  # average over posterior samples\n",
        "\n",
        "    loss_vi = -elbo\n",
        "    loss_vi.backward()\n",
        "    optimizer.step()\n",
        "\n",
        "    if e<10 or e%100==0:\n",
        "        print(f\"epoch={e}: elbo = {elbo: .2f} (= {logliks.mean(): .2f} [+] {log_p.mean(): .2f} [-] {-log_q.mean(): .2f})\")"
      ]
    },
    {
      "cell_type": "code",
      "execution_count": 27,
      "metadata": {},
      "outputs": [
        {
          "data": {
            "image/png": "[encoded data removed]",
            "text/plain": [
              "<Figure size 360x360 with 1 Axes>"
            ]
          },
          "metadata": {
            "needs_background": "light"
          },
          "output_type": "display_data"
        }
      ],
      "source": [
        "parameters_samples, nlls = r.sample_parameters(parameters2sampler, 10)\n",
        "xs = linspace1(x)\n",
        "ys = r.sample_predictive(xs, model, parameters_samples, \n",
        "                        sampler=predictive_distribution_sampler, \n",
        "                        n_samples=1, \n",
        "                       )\n",
        "\n",
        "plot_fit(x, y, xs, ys)\n",
        "plt.title(\"after learning\")\n",
        "plt.show()"
      ]
    },
    {
      "cell_type": "markdown",
      "metadata": {
        "id": "FMLYtaZFBoFm"
      },
      "source": [
        "# Linear Regression Bayesian true (closed-form) posterior"
      ]
    },
    {
      "cell_type": "markdown",
      "metadata": {
        "id": "O_qCizafZv1z"
      },
      "source": [
        "See Bishop's book"
      ]
    },
    {
      "cell_type": "code",
      "execution_count": 28,
      "metadata": {
        "id": "1yIXrPEr7dDU"
      },
      "outputs": [],
      "source": [
        "psi = np.hstack([x_data, np.ones(x_data.shape)])\n",
        "t = y_data"
      ]
    },
    {
      "cell_type": "code",
      "execution_count": 29,
      "metadata": {
        "id": "elCPvgtiEQwf"
      },
      "outputs": [
        {
          "data": {
            "text/plain": [
              "((64, 2), (64, 1))"
            ]
          },
          "execution_count": 29,
          "metadata": {},
          "output_type": "execute_result"
        }
      ],
      "source": [
        "psi.shape, t.shape"
      ]
    },
    {
      "cell_type": "code",
      "execution_count": 30,
      "metadata": {
        "id": "KH-ZfaL-_hwr"
      },
      "outputs": [],
      "source": [
        "#likelihood precision:\n",
        "beta = 1./(LIKELIHOOD_SIGMA*LIKELIHOOD_SIGMA)\n",
        "\n",
        "#prior:\n",
        "S0 = np.eye(psi.shape[-1])\n",
        "m0 = np.zeros(psi.shape[-1]).reshape(-1, 1)"
      ]
    },
    {
      "cell_type": "code",
      "execution_count": 31,
      "metadata": {
        "id": "wsl3q5Ys7_sJ"
      },
      "outputs": [],
      "source": [
        "SN = np.linalg.inv( np.linalg.inv(S0) + beta*np.dot(psi.T, psi) ) # covariance matrix (Bishop 3.50)"
      ]
    },
    {
      "cell_type": "code",
      "execution_count": 32,
      "metadata": {
        "id": "YPZEyITg_uld"
      },
      "outputs": [],
      "source": [
        "mN = np.dot(SN, np.dot(np.linalg.inv(S0), m0) + beta*np.dot(psi.T, t)) # means (Bishop 3.51)"
      ]
    },
    {
      "cell_type": "markdown",
      "metadata": {},
      "source": [
        "Compare expectations (means):"
      ]
    },
    {
      "cell_type": "code",
      "execution_count": 33,
      "metadata": {
        "id": "jqLCbzz5AmTr"
      },
      "outputs": [
        {
          "data": {
            "text/plain": [
              "array([[0.37413242],\n",
              "       [7.83990305]])"
            ]
          },
          "execution_count": 33,
          "metadata": {},
          "output_type": "execute_result"
        }
      ],
      "source": [
        "mN"
      ]
    },
    {
      "cell_type": "code",
      "execution_count": 34,
      "metadata": {},
      "outputs": [
        {
          "data": {
            "text/plain": [
              "(tensor([[0.3909]], requires_grad=True), tensor([7.8557], requires_grad=True))"
            ]
          },
          "execution_count": 34,
          "metadata": {},
          "output_type": "execute_result"
        }
      ],
      "source": [
        "variational_params_d = dict(variational_params)\n",
        "l1, l2 = variational_params_d['0.weight:loc'], variational_params_d['0.bias:loc'], \n",
        "l1, l2"
      ]
    },
    {
      "cell_type": "markdown",
      "metadata": {},
      "source": [
        "Compare covariance:"
      ]
    },
    {
      "cell_type": "code",
      "execution_count": 35,
      "metadata": {
        "id": "pj-hoGZ1A9Ba"
      },
      "outputs": [
        {
          "data": {
            "text/plain": [
              "array([[0.0018352 , 0.00256277],\n",
              "       [0.00256277, 0.06240231]])"
            ]
          },
          "execution_count": 35,
          "metadata": {},
          "output_type": "execute_result"
        }
      ],
      "source": [
        "SN"
      ]
    },
    {
      "cell_type": "code",
      "execution_count": 36,
      "metadata": {},
      "outputs": [
        {
          "data": {
            "text/plain": [
              "(0.0018351988256775048, 0.06240230558574069)"
            ]
          },
          "execution_count": 36,
          "metadata": {},
          "output_type": "execute_result"
        }
      ],
      "source": [
        "SN[0,0], SN[1,1]"
      ]
    },
    {
      "cell_type": "code",
      "execution_count": 37,
      "metadata": {
        "id": "um_HOFQK-lEz"
      },
      "outputs": [
        {
          "data": {
            "text/plain": [
              "(tensor([[0.0020]], grad_fn=<MulBackward0>),\n",
              " tensor([0.0538], grad_fn=<MulBackward0>))"
            ]
          },
          "execution_count": 37,
          "metadata": {},
          "output_type": "execute_result"
        }
      ],
      "source": [
        "s1, s2 = softplus(variational_params_d['0.weight:unnormalized_scale']), softplus(variational_params_d['0.bias:unnormalized_scale'])\n",
        "s1*s1, s2*s2"
      ]
    }
  ],
  "metadata": {
    "accelerator": "GPU",
    "colab": {
      "collapsed_sections": [
        "-C2DLYqynn54"
      ],
      "provenance": []
    },
    "gpuClass": "standard",
    "kernelspec": {
      "display_name": "Python 3.8.5 ('base')",
      "language": "python",
      "name": "python3"
    },
    "language_info": {
      "codemirror_mode": {
        "name": "ipython",
        "version": 3
      },
      "file_extension": ".py",
      "mimetype": "text/x-python",
      "name": "python",
      "nbconvert_exporter": "python",
      "pygments_lexer": "ipython3",
      "version": "3.8.5"
    },
    "vscode": {
      "interpreter": {
        "hash": "72dff520818572b45c401a256658ee25fa99b55260abeb0336ef1b1e43b37267"
      }
    }
  },
  "nbformat": 4,
  "nbformat_minor": 0
}
