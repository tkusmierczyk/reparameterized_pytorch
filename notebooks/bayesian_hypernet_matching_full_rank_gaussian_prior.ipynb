{
  "cells": [
    {
      "cell_type": "markdown",
      "metadata": {
        "id": "GJcMJWZDBy2h"
      },
      "source": [
        "# Matching q(z), z:=v/|v|*g, g~NF to p=Normal by minimizing KL(q|p)"
      ]
    },
    {
      "cell_type": "code",
      "execution_count": 28,
      "metadata": {
        "colab": {
          "base_uri": "https://localhost:8080/"
        },
        "id": "uJd1yRdoJgA7",
        "outputId": "ac8f8121-db81-47a0-f47e-eb001f0b38c8"
      },
      "outputs": [
        {
          "name": "stdout",
          "output_type": "stream",
          "text": [
            "The autoreload extension is already loaded. To reload it, use:\n",
            "  %reload_ext autoreload\n"
          ]
        }
      ],
      "source": [
        "%load_ext autoreload\n",
        "%autoreload 2"
      ]
    },
    {
      "cell_type": "code",
      "execution_count": 29,
      "metadata": {},
      "outputs": [
        {
          "name": "stdout",
          "output_type": "stream",
          "text": [
            "Note: you may need to restart the kernel to use updated packages.\n"
          ]
        }
      ],
      "source": [
        "%pip install -q torch"
      ]
    },
    {
      "cell_type": "code",
      "execution_count": 30,
      "metadata": {
        "id": "PkWZ_bKBJYeT"
      },
      "outputs": [],
      "source": [
        "import torch\n",
        "\n",
        "from torch.distributions import MultivariateNormal\n"
      ]
    },
    {
      "cell_type": "code",
      "execution_count": 31,
      "metadata": {},
      "outputs": [
        {
          "data": {
            "text/plain": [
              "'1.13.0+cu117'"
            ]
          },
          "execution_count": 31,
          "metadata": {},
          "output_type": "execute_result"
        }
      ],
      "source": [
        "torch.__version__"
      ]
    },
    {
      "cell_type": "code",
      "execution_count": 32,
      "metadata": {
        "colab": {
          "base_uri": "https://localhost:8080/"
        },
        "id": "uiEnOgwGJaEn",
        "outputId": "c8936bc9-58b4-4ecf-fcea-88d08592c3c4"
      },
      "outputs": [
        {
          "name": "stdout",
          "output_type": "stream",
          "text": [
            "Using CPU\n"
          ]
        }
      ],
      "source": [
        "if torch.cuda.is_available():\n",
        "    torch.set_default_tensor_type('torch.cuda.FloatTensor')\n",
        "    ENV = torch.cuda\n",
        "    print(\"Using GPU\")\n",
        "else:\n",
        "    torch.set_default_tensor_type('torch.FloatTensor')\n",
        "    ENV = torch\n",
        "    print(\"Using CPU\")"
      ]
    },
    {
      "cell_type": "code",
      "execution_count": 33,
      "metadata": {
        "id": "JVdgdm7Cd5UI"
      },
      "outputs": [],
      "source": [
        "from matplotlib import pyplot as plt\n",
        "plt.rcParams['figure.figsize'] = (5, 5) # Width and height"
      ]
    },
    {
      "cell_type": "code",
      "execution_count": 34,
      "metadata": {},
      "outputs": [],
      "source": [
        "import sys\n",
        "sys.path.append(\"../\")"
      ]
    },
    {
      "cell_type": "code",
      "execution_count": 35,
      "metadata": {},
      "outputs": [],
      "source": [
        "from reparametrized import sampling"
      ]
    },
    {
      "cell_type": "markdown",
      "metadata": {},
      "source": [
        "## Sanity check our implementation of weight_norm  "
      ]
    },
    {
      "cell_type": "code",
      "execution_count": 36,
      "metadata": {},
      "outputs": [],
      "source": [
        "from torch import nn, _weight_norm\n",
        "from torch.nn.utils import weight_norm\n",
        "from reparametrized.sampling.bayesian_hypernets import _weight_norm_our"
      ]
    },
    {
      "cell_type": "markdown",
      "metadata": {},
      "source": [
        "One sample:"
      ]
    },
    {
      "cell_type": "code",
      "execution_count": 37,
      "metadata": {},
      "outputs": [
        {
          "name": "stdout",
          "output_type": "stream",
          "text": [
            "torch.Size([3, 5]) torch.Size([3, 1]) torch.Size([3, 5])\n"
          ]
        },
        {
          "data": {
            "text/plain": [
              "(tensor(0., grad_fn=<MaxBackward1>),\n",
              " tensor(1.4901e-08, grad_fn=<MaxBackward1>))"
            ]
          },
          "execution_count": 37,
          "metadata": {},
          "output_type": "execute_result"
        }
      ],
      "source": [
        "# m = weight_norm(nn.Conv3d(11, 5, (7,3,2)), name=\"weight\")\n",
        "m = weight_norm(nn.Linear(5, 3), name=\"weight\")\n",
        "\n",
        "v = m.weight_v\n",
        "g = m.weight_g\n",
        "print(m.weight.shape, g.shape, v.shape)\n",
        "\n",
        "(_weight_norm(v,g,dim=0)-m.weight).max(), (_weight_norm_our(v,g,dim=0)-m.weight).max()"
      ]
    },
    {
      "cell_type": "markdown",
      "metadata": {},
      "source": [
        "Multiple samples:"
      ]
    },
    {
      "cell_type": "code",
      "execution_count": 38,
      "metadata": {},
      "outputs": [
        {
          "data": {
            "text/plain": [
              "tensor(4.4703e-08, grad_fn=<MaxBackward1>)"
            ]
          },
          "execution_count": 38,
          "metadata": {},
          "output_type": "execute_result"
        }
      ],
      "source": [
        "ms, vs, gs = [], [], []\n",
        "for _ in range(17):\n",
        "    m = weight_norm(nn.Linear(11, 5), name=\"weight\")\n",
        "    # m = weight_norm(nn.Conv3d(11, 5, (7,3,2)), name=\"weight\")\n",
        "    \n",
        "    v, g = m.weight_v,  m.weight_g\n",
        "    \n",
        "    ms.append(m.weight)\n",
        "    vs.append(v)\n",
        "    gs.append(g)\n",
        "ms = torch.stack(ms)\n",
        "vs = torch.stack(vs)\n",
        "gs = torch.stack(gs)\n",
        "\n",
        "(_weight_norm_our(vs, gs, dim=1)-ms).max()"
      ]
    },
    {
      "cell_type": "markdown",
      "metadata": {},
      "source": [
        "## Dimensionality"
      ]
    },
    {
      "cell_type": "code",
      "execution_count": 39,
      "metadata": {
        "id": "18IvegmjJYea"
      },
      "outputs": [],
      "source": [
        "parameter_shape = (3, 2)  # for Bayesian hypernets parameters dimensionality must be >=2D, and first dim>1\n",
        "\n",
        "# some samplers initialize with this value; others just match its shape\n",
        "parameter_init_value = torch.randn(torch.Size(parameter_shape))  "
      ]
    },
    {
      "cell_type": "markdown",
      "metadata": {},
      "source": [
        "## Create target p"
      ]
    },
    {
      "cell_type": "code",
      "execution_count": 40,
      "metadata": {},
      "outputs": [],
      "source": [
        "## Some full-rank Gaussian:\n",
        "# t = torch.tensor(range(parameter_shape[0]))*3.\n",
        "# cov = t[None,:]*t[:,None]+300*torch.eye(parameter_shape[0])\n",
        "# for i, j in [(1, 3), (5, 3)]:\n",
        "#     cov[i, j] = -cov[i, j]\n",
        "#     cov[j, i] = -cov[j, i]\n",
        "# loc = torch.tensor(range(parameter_shape[0], 0, -1))*2."
      ]
    },
    {
      "cell_type": "code",
      "execution_count": 41,
      "metadata": {},
      "outputs": [],
      "source": [
        "# Factorized Gaussian:\n",
        "loc = torch.zeros(parameter_init_value.numel())\n",
        "cov = torch.eye(parameter_init_value.numel())"
      ]
    },
    {
      "cell_type": "code",
      "execution_count": 42,
      "metadata": {},
      "outputs": [
        {
          "data": {
            "text/plain": [
              "(tensor([0., 0., 0., 0., 0., 0.]),\n",
              " tensor([[1., 0., 0., 0., 0., 0.],\n",
              "         [0., 1., 0., 0., 0., 0.],\n",
              "         [0., 0., 1., 0., 0., 0.],\n",
              "         [0., 0., 0., 1., 0., 0.],\n",
              "         [0., 0., 0., 0., 1., 0.],\n",
              "         [0., 0., 0., 0., 0., 1.]]))"
            ]
          },
          "execution_count": 42,
          "metadata": {},
          "output_type": "execute_result"
        }
      ],
      "source": [
        "# target\n",
        "loc, cov"
      ]
    },
    {
      "cell_type": "code",
      "execution_count": 43,
      "metadata": {},
      "outputs": [],
      "source": [
        "p = MultivariateNormal(loc=loc, covariance_matrix=cov)\n",
        "\n",
        "def calc_p_nll(samples):\n",
        "    samples = samples.flatten(start_dim=1)\n",
        "    return -p.log_prob(samples)"
      ]
    },
    {
      "cell_type": "markdown",
      "metadata": {},
      "source": [
        "## Create q"
      ]
    },
    {
      "cell_type": "code",
      "execution_count": 44,
      "metadata": {},
      "outputs": [
        {
          "name": "stdout",
          "output_type": "stream",
          "text": [
            "g_shape=torch.Size([3, 1]) v_shape=torch.Size([3, 2])\n"
          ]
        }
      ],
      "source": [
        "sampler, variational_params, aux_objs = sampling.create_bayesian_hypernet_sampler(parameter_init_value, \n",
        "                                                                     realnvp_m=8,  # change default parameters!\n",
        "                                                                     realnvp_num_layers=16,\n",
        "                                                                     rezero_trick=False,\n",
        "                                                                     only_flow_nll=False,\n",
        "                                                                     )"
      ]
    },
    {
      "cell_type": "code",
      "execution_count": 45,
      "metadata": {},
      "outputs": [
        {
          "data": {
            "text/plain": [
              "{'t.0.0.weight': torch.Size([8, 2]),\n",
              " 't.0.0.bias': torch.Size([8]),\n",
              " 't.0.2.weight': torch.Size([8, 8]),\n",
              " 't.0.2.bias': torch.Size([8]),\n",
              " 't.0.4.weight': torch.Size([1, 8]),\n",
              " 't.0.4.bias': torch.Size([1]),\n",
              " 't.1.0.weight': torch.Size([8, 2]),\n",
              " 't.1.0.bias': torch.Size([8]),\n",
              " 't.1.2.weight': torch.Size([8, 8]),\n",
              " 't.1.2.bias': torch.Size([8]),\n",
              " 't.1.4.weight': torch.Size([1, 8]),\n",
              " 't.1.4.bias': torch.Size([1]),\n",
              " 't.2.0.weight': torch.Size([8, 2]),\n",
              " 't.2.0.bias': torch.Size([8]),\n",
              " 't.2.2.weight': torch.Size([8, 8]),\n",
              " 't.2.2.bias': torch.Size([8]),\n",
              " 't.2.4.weight': torch.Size([1, 8]),\n",
              " 't.2.4.bias': torch.Size([1]),\n",
              " 't.3.0.weight': torch.Size([8, 2]),\n",
              " 't.3.0.bias': torch.Size([8]),\n",
              " 't.3.2.weight': torch.Size([8, 8]),\n",
              " 't.3.2.bias': torch.Size([8]),\n",
              " 't.3.4.weight': torch.Size([1, 8]),\n",
              " 't.3.4.bias': torch.Size([1]),\n",
              " 't.4.0.weight': torch.Size([8, 2]),\n",
              " 't.4.0.bias': torch.Size([8]),\n",
              " 't.4.2.weight': torch.Size([8, 8]),\n",
              " 't.4.2.bias': torch.Size([8]),\n",
              " 't.4.4.weight': torch.Size([1, 8]),\n",
              " 't.4.4.bias': torch.Size([1]),\n",
              " 't.5.0.weight': torch.Size([8, 2]),\n",
              " 't.5.0.bias': torch.Size([8]),\n",
              " 't.5.2.weight': torch.Size([8, 8]),\n",
              " 't.5.2.bias': torch.Size([8]),\n",
              " 't.5.4.weight': torch.Size([1, 8]),\n",
              " 't.5.4.bias': torch.Size([1]),\n",
              " 't.6.0.weight': torch.Size([8, 2]),\n",
              " 't.6.0.bias': torch.Size([8]),\n",
              " 't.6.2.weight': torch.Size([8, 8]),\n",
              " 't.6.2.bias': torch.Size([8]),\n",
              " 't.6.4.weight': torch.Size([1, 8]),\n",
              " 't.6.4.bias': torch.Size([1]),\n",
              " 't.7.0.weight': torch.Size([8, 2]),\n",
              " 't.7.0.bias': torch.Size([8]),\n",
              " 't.7.2.weight': torch.Size([8, 8]),\n",
              " 't.7.2.bias': torch.Size([8]),\n",
              " 't.7.4.weight': torch.Size([1, 8]),\n",
              " 't.7.4.bias': torch.Size([1]),\n",
              " 't.8.0.weight': torch.Size([8, 2]),\n",
              " 't.8.0.bias': torch.Size([8]),\n",
              " 't.8.2.weight': torch.Size([8, 8]),\n",
              " 't.8.2.bias': torch.Size([8]),\n",
              " 't.8.4.weight': torch.Size([1, 8]),\n",
              " 't.8.4.bias': torch.Size([1]),\n",
              " 't.9.0.weight': torch.Size([8, 2]),\n",
              " 't.9.0.bias': torch.Size([8]),\n",
              " 't.9.2.weight': torch.Size([8, 8]),\n",
              " 't.9.2.bias': torch.Size([8]),\n",
              " 't.9.4.weight': torch.Size([1, 8]),\n",
              " 't.9.4.bias': torch.Size([1]),\n",
              " 't.10.0.weight': torch.Size([8, 2]),\n",
              " 't.10.0.bias': torch.Size([8]),\n",
              " 't.10.2.weight': torch.Size([8, 8]),\n",
              " 't.10.2.bias': torch.Size([8]),\n",
              " 't.10.4.weight': torch.Size([1, 8]),\n",
              " 't.10.4.bias': torch.Size([1]),\n",
              " 't.11.0.weight': torch.Size([8, 2]),\n",
              " 't.11.0.bias': torch.Size([8]),\n",
              " 't.11.2.weight': torch.Size([8, 8]),\n",
              " 't.11.2.bias': torch.Size([8]),\n",
              " 't.11.4.weight': torch.Size([1, 8]),\n",
              " 't.11.4.bias': torch.Size([1]),\n",
              " 't.12.0.weight': torch.Size([8, 2]),\n",
              " 't.12.0.bias': torch.Size([8]),\n",
              " 't.12.2.weight': torch.Size([8, 8]),\n",
              " 't.12.2.bias': torch.Size([8]),\n",
              " 't.12.4.weight': torch.Size([1, 8]),\n",
              " 't.12.4.bias': torch.Size([1]),\n",
              " 't.13.0.weight': torch.Size([8, 2]),\n",
              " 't.13.0.bias': torch.Size([8]),\n",
              " 't.13.2.weight': torch.Size([8, 8]),\n",
              " 't.13.2.bias': torch.Size([8]),\n",
              " 't.13.4.weight': torch.Size([1, 8]),\n",
              " 't.13.4.bias': torch.Size([1]),\n",
              " 't.14.0.weight': torch.Size([8, 2]),\n",
              " 't.14.0.bias': torch.Size([8]),\n",
              " 't.14.2.weight': torch.Size([8, 8]),\n",
              " 't.14.2.bias': torch.Size([8]),\n",
              " 't.14.4.weight': torch.Size([1, 8]),\n",
              " 't.14.4.bias': torch.Size([1]),\n",
              " 't.15.0.weight': torch.Size([8, 2]),\n",
              " 't.15.0.bias': torch.Size([8]),\n",
              " 't.15.2.weight': torch.Size([8, 8]),\n",
              " 't.15.2.bias': torch.Size([8]),\n",
              " 't.15.4.weight': torch.Size([1, 8]),\n",
              " 't.15.4.bias': torch.Size([1]),\n",
              " 's.0.0.weight': torch.Size([8, 2]),\n",
              " 's.0.0.bias': torch.Size([8]),\n",
              " 's.0.2.weight': torch.Size([8, 8]),\n",
              " 's.0.2.bias': torch.Size([8]),\n",
              " 's.0.4.weight': torch.Size([1, 8]),\n",
              " 's.0.4.bias': torch.Size([1]),\n",
              " 's.1.0.weight': torch.Size([8, 2]),\n",
              " 's.1.0.bias': torch.Size([8]),\n",
              " 's.1.2.weight': torch.Size([8, 8]),\n",
              " 's.1.2.bias': torch.Size([8]),\n",
              " 's.1.4.weight': torch.Size([1, 8]),\n",
              " 's.1.4.bias': torch.Size([1]),\n",
              " 's.2.0.weight': torch.Size([8, 2]),\n",
              " 's.2.0.bias': torch.Size([8]),\n",
              " 's.2.2.weight': torch.Size([8, 8]),\n",
              " 's.2.2.bias': torch.Size([8]),\n",
              " 's.2.4.weight': torch.Size([1, 8]),\n",
              " 's.2.4.bias': torch.Size([1]),\n",
              " 's.3.0.weight': torch.Size([8, 2]),\n",
              " 's.3.0.bias': torch.Size([8]),\n",
              " 's.3.2.weight': torch.Size([8, 8]),\n",
              " 's.3.2.bias': torch.Size([8]),\n",
              " 's.3.4.weight': torch.Size([1, 8]),\n",
              " 's.3.4.bias': torch.Size([1]),\n",
              " 's.4.0.weight': torch.Size([8, 2]),\n",
              " 's.4.0.bias': torch.Size([8]),\n",
              " 's.4.2.weight': torch.Size([8, 8]),\n",
              " 's.4.2.bias': torch.Size([8]),\n",
              " 's.4.4.weight': torch.Size([1, 8]),\n",
              " 's.4.4.bias': torch.Size([1]),\n",
              " 's.5.0.weight': torch.Size([8, 2]),\n",
              " 's.5.0.bias': torch.Size([8]),\n",
              " 's.5.2.weight': torch.Size([8, 8]),\n",
              " 's.5.2.bias': torch.Size([8]),\n",
              " 's.5.4.weight': torch.Size([1, 8]),\n",
              " 's.5.4.bias': torch.Size([1]),\n",
              " 's.6.0.weight': torch.Size([8, 2]),\n",
              " 's.6.0.bias': torch.Size([8]),\n",
              " 's.6.2.weight': torch.Size([8, 8]),\n",
              " 's.6.2.bias': torch.Size([8]),\n",
              " 's.6.4.weight': torch.Size([1, 8]),\n",
              " 's.6.4.bias': torch.Size([1]),\n",
              " 's.7.0.weight': torch.Size([8, 2]),\n",
              " 's.7.0.bias': torch.Size([8]),\n",
              " 's.7.2.weight': torch.Size([8, 8]),\n",
              " 's.7.2.bias': torch.Size([8]),\n",
              " 's.7.4.weight': torch.Size([1, 8]),\n",
              " 's.7.4.bias': torch.Size([1]),\n",
              " 's.8.0.weight': torch.Size([8, 2]),\n",
              " 's.8.0.bias': torch.Size([8]),\n",
              " 's.8.2.weight': torch.Size([8, 8]),\n",
              " 's.8.2.bias': torch.Size([8]),\n",
              " 's.8.4.weight': torch.Size([1, 8]),\n",
              " 's.8.4.bias': torch.Size([1]),\n",
              " 's.9.0.weight': torch.Size([8, 2]),\n",
              " 's.9.0.bias': torch.Size([8]),\n",
              " 's.9.2.weight': torch.Size([8, 8]),\n",
              " 's.9.2.bias': torch.Size([8]),\n",
              " 's.9.4.weight': torch.Size([1, 8]),\n",
              " 's.9.4.bias': torch.Size([1]),\n",
              " 's.10.0.weight': torch.Size([8, 2]),\n",
              " 's.10.0.bias': torch.Size([8]),\n",
              " 's.10.2.weight': torch.Size([8, 8]),\n",
              " 's.10.2.bias': torch.Size([8]),\n",
              " 's.10.4.weight': torch.Size([1, 8]),\n",
              " 's.10.4.bias': torch.Size([1]),\n",
              " 's.11.0.weight': torch.Size([8, 2]),\n",
              " 's.11.0.bias': torch.Size([8]),\n",
              " 's.11.2.weight': torch.Size([8, 8]),\n",
              " 's.11.2.bias': torch.Size([8]),\n",
              " 's.11.4.weight': torch.Size([1, 8]),\n",
              " 's.11.4.bias': torch.Size([1]),\n",
              " 's.12.0.weight': torch.Size([8, 2]),\n",
              " 's.12.0.bias': torch.Size([8]),\n",
              " 's.12.2.weight': torch.Size([8, 8]),\n",
              " 's.12.2.bias': torch.Size([8]),\n",
              " 's.12.4.weight': torch.Size([1, 8]),\n",
              " 's.12.4.bias': torch.Size([1]),\n",
              " 's.13.0.weight': torch.Size([8, 2]),\n",
              " 's.13.0.bias': torch.Size([8]),\n",
              " 's.13.2.weight': torch.Size([8, 8]),\n",
              " 's.13.2.bias': torch.Size([8]),\n",
              " 's.13.4.weight': torch.Size([1, 8]),\n",
              " 's.13.4.bias': torch.Size([1]),\n",
              " 's.14.0.weight': torch.Size([8, 2]),\n",
              " 's.14.0.bias': torch.Size([8]),\n",
              " 's.14.2.weight': torch.Size([8, 8]),\n",
              " 's.14.2.bias': torch.Size([8]),\n",
              " 's.14.4.weight': torch.Size([1, 8]),\n",
              " 's.14.4.bias': torch.Size([1]),\n",
              " 's.15.0.weight': torch.Size([8, 2]),\n",
              " 's.15.0.bias': torch.Size([8]),\n",
              " 's.15.2.weight': torch.Size([8, 8]),\n",
              " 's.15.2.bias': torch.Size([8]),\n",
              " 's.15.4.weight': torch.Size([1, 8]),\n",
              " 's.15.4.bias': torch.Size([1]),\n",
              " 'v': torch.Size([3, 2])}"
            ]
          },
          "execution_count": 45,
          "metadata": {},
          "output_type": "execute_result"
        }
      ],
      "source": [
        "# Preview variational parameters:\n",
        "{n: p.shape for n, p in variational_params.items()}"
      ]
    },
    {
      "cell_type": "markdown",
      "metadata": {},
      "source": [
        "## Preview before optimization"
      ]
    },
    {
      "cell_type": "code",
      "execution_count": 46,
      "metadata": {},
      "outputs": [
        {
          "data": {
            "text/plain": [
              "(torch.Size([10240, 3, 2]), torch.Size([10240]))"
            ]
          },
          "execution_count": 46,
          "metadata": {},
          "output_type": "execute_result"
        }
      ],
      "source": [
        "samples, nlls = sampler(n_samples=10240)\n",
        "samples.shape, nlls.shape"
      ]
    },
    {
      "cell_type": "code",
      "execution_count": 47,
      "metadata": {},
      "outputs": [
        {
          "data": {
            "text/plain": [
              "(tensor([[ 0.6833, -0.2525],\n",
              "         [-0.0042,  0.0017],\n",
              "         [ 0.0074, -0.0144]], grad_fn=<MeanBackward1>),\n",
              " tensor([[0.3194, 0.0436],\n",
              "         [0.8496, 0.1381],\n",
              "         [0.1248, 0.4722]], grad_fn=<PowBackward0>),\n",
              " tensor([[ 0.3000, -0.1000,  0.0000, -0.0000, -0.0000,  0.1000],\n",
              "         [-0.1000,  0.0000, -0.0000,  0.0000,  0.0000, -0.0000],\n",
              "         [ 0.0000, -0.0000,  0.8000, -0.3000, -0.0000,  0.0000],\n",
              "         [-0.0000,  0.0000, -0.3000,  0.1000,  0.0000, -0.0000],\n",
              "         [-0.0000,  0.0000, -0.0000,  0.0000,  0.1000, -0.2000],\n",
              "         [ 0.1000, -0.0000,  0.0000, -0.0000, -0.2000,  0.5000]],\n",
              "        grad_fn=<RoundBackward1>))"
            ]
          },
          "execution_count": 47,
          "metadata": {},
          "output_type": "execute_result"
        }
      ],
      "source": [
        "# Means, variances, covariance matrix:\n",
        "samples.mean(0), samples.std(0)**2, torch.cov(samples.flatten(start_dim=1).T).round(decimals=1)"
      ]
    },
    {
      "cell_type": "code",
      "execution_count": 48,
      "metadata": {},
      "outputs": [
        {
          "data": {
            "image/png": "[encoded data removed]",
            "text/plain": [
              "<Figure size 360x360 with 1 Axes>"
            ]
          },
          "metadata": {
            "needs_background": "light"
          },
          "output_type": "display_data"
        }
      ],
      "source": [
        "plt.hist(samples[:,0].cpu().detach().numpy(), bins=30);\n",
        "plt.title(\"Dim=0 marginal distribution\");"
      ]
    },
    {
      "cell_type": "code",
      "execution_count": 49,
      "metadata": {},
      "outputs": [
        {
          "data": {
            "text/plain": [
              "tensor([[ 0.6607, -0.2441],\n",
              "        [-2.2600,  0.9112],\n",
              "        [ 0.6506, -1.2655]], requires_grad=True)"
            ]
          },
          "execution_count": 49,
          "metadata": {},
          "output_type": "execute_result"
        }
      ],
      "source": [
        "variational_params[\"v\"]"
      ]
    },
    {
      "cell_type": "markdown",
      "metadata": {
        "id": "HdEt2uU1g4qM"
      },
      "source": [
        "## Optimize"
      ]
    },
    {
      "cell_type": "code",
      "execution_count": 50,
      "metadata": {
        "id": "Gc6q2sg2JYeg"
      },
      "outputs": [
        {
          "name": "stdout",
          "output_type": "stream",
          "text": [
            "epoch=0: loss= 3.04\n",
            "epoch=10: loss= 2.04\n",
            "epoch=20: loss= 1.43\n",
            "epoch=30: loss= 1.24\n",
            "epoch=40: loss= 1.08\n",
            "epoch=50: loss= 1.02\n",
            "epoch=60: loss= 0.92\n",
            "epoch=70: loss= 0.85\n",
            "epoch=80: loss= 0.80\n",
            "epoch=90: loss= 0.76\n",
            "epoch=500: loss= 0.32\n",
            "epoch=1000: loss= 0.21\n",
            "epoch=1500: loss= 0.24\n",
            "epoch=2000: loss= 0.21\n",
            "epoch=2500: loss= 0.21\n"
          ]
        }
      ],
      "source": [
        "optimized_parameters = variational_params.values()\n",
        "optimizer = torch.optim.Adam(optimized_parameters, lr=0.001) \n",
        "n_epochs = 3000\n",
        "n_posterior_samples = 10\n",
        "\n",
        "for e in range(n_epochs):\n",
        "    optimizer.zero_grad()\n",
        "\n",
        "    samples, q_nlls = sampler(n_samples=n_posterior_samples)\n",
        "    p_nlls = calc_p_nll(samples)\n",
        "    KLD = p_nlls-q_nlls\n",
        "\n",
        "    loss_vi = KLD.mean()\n",
        "    loss_vi.backward()\n",
        "    optimizer.step()\n",
        "\n",
        "    if (e<100 and e%10==0) or e%500==0:\n",
        "        samples, q_nlls = sampler(n_samples=10240)  # let use  more samples to better estimate reported KLD\n",
        "        p_nlls = calc_p_nll(samples)\n",
        "        KLD = p_nlls-q_nlls\n",
        "\n",
        "        print(f\"epoch={e}: loss={KLD.mean(): .2f}\")"
      ]
    },
    {
      "cell_type": "markdown",
      "metadata": {},
      "source": [
        "## Preview after optimization"
      ]
    },
    {
      "cell_type": "code",
      "execution_count": 51,
      "metadata": {
        "id": "um_HOFQK-lEz"
      },
      "outputs": [
        {
          "data": {
            "text/plain": [
              "(tensor([[-0.0600,  0.0600],\n",
              "         [ 0.0010, -0.0010],\n",
              "         [-0.1233,  0.1233]], grad_fn=<MeanBackward1>),\n",
              " tensor([[0.9144, 0.9144],\n",
              "         [0.5022, 0.5022],\n",
              "         [1.0119, 1.0119]], grad_fn=<PowBackward0>),\n",
              " tensor([[ 0.9100, -0.9100, -0.0400,  0.0400, -0.0100,  0.0100],\n",
              "         [-0.9100,  0.9100,  0.0400, -0.0400,  0.0100, -0.0100],\n",
              "         [-0.0400,  0.0400,  0.5000, -0.5000,  0.0100, -0.0100],\n",
              "         [ 0.0400, -0.0400, -0.5000,  0.5000, -0.0100,  0.0100],\n",
              "         [-0.0100,  0.0100,  0.0100, -0.0100,  1.0100, -1.0100],\n",
              "         [ 0.0100, -0.0100, -0.0100,  0.0100, -1.0100,  1.0100]],\n",
              "        grad_fn=<RoundBackward1>))"
            ]
          },
          "execution_count": 51,
          "metadata": {},
          "output_type": "execute_result"
        }
      ],
      "source": [
        "samples, nlls = sampler(n_samples=102400)\n",
        "\n",
        "# Means, variances, covariance matrix:\n",
        "samples.mean(0), samples.std(0)**2, torch.cov(samples.flatten(start_dim=1).T).round(decimals=2)"
      ]
    },
    {
      "cell_type": "code",
      "execution_count": 52,
      "metadata": {},
      "outputs": [
        {
          "data": {
            "text/plain": [
              "(tensor([0., 0., 0., 0., 0., 0.]),\n",
              " tensor([[1., 0., 0., 0., 0., 0.],\n",
              "         [0., 1., 0., 0., 0., 0.],\n",
              "         [0., 0., 1., 0., 0., 0.],\n",
              "         [0., 0., 0., 1., 0., 0.],\n",
              "         [0., 0., 0., 0., 1., 0.],\n",
              "         [0., 0., 0., 0., 0., 1.]]))"
            ]
          },
          "execution_count": 52,
          "metadata": {},
          "output_type": "execute_result"
        }
      ],
      "source": [
        "# target:\n",
        "loc, cov "
      ]
    },
    {
      "cell_type": "code",
      "execution_count": 53,
      "metadata": {},
      "outputs": [
        {
          "data": {
            "image/png": "[encoded data removed]",
            "text/plain": [
              "<Figure size 360x360 with 1 Axes>"
            ]
          },
          "metadata": {
            "needs_background": "light"
          },
          "output_type": "display_data"
        }
      ],
      "source": [
        "samples, nlls = sampler(n_samples=10240)\n",
        "plt.hist(samples[:, 0].cpu().detach().numpy(), bins=30);\n",
        "plt.title(\"Dim=0 marginal distribution\");"
      ]
    },
    {
      "cell_type": "code",
      "execution_count": 54,
      "metadata": {},
      "outputs": [
        {
          "data": {
            "text/plain": [
              "tensor([[ 0.4247, -0.4247],\n",
              "        [-1.5015,  1.5015],\n",
              "        [ 0.9296, -0.9296]], requires_grad=True)"
            ]
          },
          "execution_count": 54,
          "metadata": {},
          "output_type": "execute_result"
        }
      ],
      "source": [
        "variational_params[\"v\"]"
      ]
    },
    {
      "cell_type": "markdown",
      "metadata": {},
      "source": [
        "**Note, the block-diagonal structure in the covariance matrix for the learnt distribution and the symmetry in learnt v. These arise from using the common NF for all inputs to a layer. In particular, here we learn distribution for a parameter (matrix) of size 3x2, i.e., the layer has 3 outputs and 2 outputs.**"
      ]
    },
    {
      "cell_type": "markdown",
      "metadata": {},
      "source": []
    }
  ],
  "metadata": {
    "accelerator": "GPU",
    "colab": {
      "collapsed_sections": [
        "-C2DLYqynn54"
      ],
      "provenance": []
    },
    "gpuClass": "standard",
    "kernelspec": {
      "display_name": "Python 3.8.5 ('base')",
      "language": "python",
      "name": "python3"
    },
    "language_info": {
      "codemirror_mode": {
        "name": "ipython",
        "version": 3
      },
      "file_extension": ".py",
      "mimetype": "text/x-python",
      "name": "python",
      "nbconvert_exporter": "python",
      "pygments_lexer": "ipython3",
      "version": "3.8.5"
    },
    "vscode": {
      "interpreter": {
        "hash": "72dff520818572b45c401a256658ee25fa99b55260abeb0336ef1b1e43b37267"
      }
    }
  },
  "nbformat": 4,
  "nbformat_minor": 0
}
